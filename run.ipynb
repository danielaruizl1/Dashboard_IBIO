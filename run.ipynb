{
 "cells": [
  {
   "cell_type": "code",
   "execution_count": 1,
   "metadata": {},
   "outputs": [
    {
     "name": "stderr",
     "output_type": "stream",
     "text": [
      "Processing Periods: 100%|██████████| 11/11 [00:16<00:00,  1.48s/it]\n"
     ]
    }
   ],
   "source": [
    "from final import mainMaterias\n",
    "\n",
    "## En esta parte se calculan los piecharts por materia en cada periodo\n",
    "\n",
    "cursos_excelPath = \"Data/Cursos IBIO 2018-2023.xlsx\"\n",
    "desired_program = 'INGENIERIA BIOMEDICA'\n",
    "directory_name = 'PieCharts_por_Materia' #Nombre de la carpeta donde queremos que se guarden los resultados\n",
    "\n",
    "mainMaterias(cursos_excelPath, desired_program, directory_name)"
   ]
  },
  {
   "cell_type": "code",
   "execution_count": 8,
   "metadata": {},
   "outputs": [
    {
     "name": "stderr",
     "output_type": "stream",
     "text": [
      "c:\\Users\\ga.vaca\\AppData\\Local\\Programs\\Python\\Python311\\Lib\\site-packages\\numpy\\core\\fromnumeric.py:3504: RuntimeWarning: Mean of empty slice.\n",
      "  return _methods._mean(a, axis=axis, dtype=dtype,\n",
      "c:\\Users\\ga.vaca\\AppData\\Local\\Programs\\Python\\Python311\\Lib\\site-packages\\numpy\\core\\_methods.py:129: RuntimeWarning: invalid value encountered in scalar divide\n",
      "  ret = ret.dtype.type(ret / rcount)\n",
      "c:\\Users\\ga.vaca\\AppData\\Local\\Programs\\Python\\Python311\\Lib\\site-packages\\numpy\\core\\_methods.py:206: RuntimeWarning: Degrees of freedom <= 0 for slice\n",
      "  ret = _var(a, axis=axis, dtype=dtype, out=out, ddof=ddof,\n",
      "c:\\Users\\ga.vaca\\AppData\\Local\\Programs\\Python\\Python311\\Lib\\site-packages\\numpy\\core\\_methods.py:163: RuntimeWarning: invalid value encountered in divide\n",
      "  arrmean = um.true_divide(arrmean, div, out=arrmean,\n",
      "c:\\Users\\ga.vaca\\AppData\\Local\\Programs\\Python\\Python311\\Lib\\site-packages\\numpy\\core\\_methods.py:198: RuntimeWarning: invalid value encountered in scalar divide\n",
      "  ret = ret.dtype.type(ret / rcount)\n"
     ]
    },
    {
     "ename": "TypeError",
     "evalue": "plot_avance_cohortes() takes 3 positional arguments but 4 were given",
     "output_type": "error",
     "traceback": [
      "\u001b[1;31m---------------------------------------------------------------------------\u001b[0m",
      "\u001b[1;31mTypeError\u001b[0m                                 Traceback (most recent call last)",
      "\u001b[1;32mc:\\Users\\ga.vaca\\Desktop\\Dashboard\\Dashboard_IBIO\\run.ipynb Cell 2\u001b[0m line \u001b[0;36m1\n\u001b[0;32m      <a href='vscode-notebook-cell:/c%3A/Users/ga.vaca/Desktop/Dashboard/Dashboard_IBIO/run.ipynb#W1sZmlsZQ%3D%3D?line=7'>8</a>\u001b[0m directory_name \u001b[39m=\u001b[39m \u001b[39m\"\u001b[39m\u001b[39mPieCharts_por_cohorte\u001b[39m\u001b[39m\"\u001b[39m\n\u001b[0;32m     <a href='vscode-notebook-cell:/c%3A/Users/ga.vaca/Desktop/Dashboard/Dashboard_IBIO/run.ipynb#W1sZmlsZQ%3D%3D?line=9'>10</a>\u001b[0m mean_dataframe, desv_dataframe, results, mean_sancionados, desv_sancionados, sancionados_dict \u001b[39m=\u001b[39m avance_cohortes(cursos_excelPath, sancionados_excelPath, desired_program)\n\u001b[1;32m---> <a href='vscode-notebook-cell:/c%3A/Users/ga.vaca/Desktop/Dashboard/Dashboard_IBIO/run.ipynb#W1sZmlsZQ%3D%3D?line=10'>11</a>\u001b[0m plot_avance_cohortes(cursos_excelPath, results, directory_name, desired_program)\n",
      "\u001b[1;31mTypeError\u001b[0m: plot_avance_cohortes() takes 3 positional arguments but 4 were given"
     ]
    }
   ],
   "source": [
    "from final import avance_cohortes, plot_avance_cohortes\n",
    "\n",
    "## En esta parte se calculan los piecharts por cohorte en cada periodo\n",
    "\n",
    "cursos_excelPath = \"Data/Cursos IBIO 2018-2023.xlsx\"\n",
    "sancionados_excelPath = \"Data/Estudiantes Sancionados 2021-10.xlsx\"\n",
    "desired_program = 'INGENIERIA BIOMEDICA'\n",
    "directory_name = \"PieCharts_por_cohorte\"\n",
    "\n",
    "mean_dataframe, desv_dataframe, results, mean_sancionados, desv_sancionados, sancionados_dict = avance_cohortes(cursos_excelPath, sancionados_excelPath, desired_program)\n",
    "plot_avance_cohortes(cursos_excelPath, results, directory_name, desired_program)"
   ]
  },
  {
   "cell_type": "code",
   "execution_count": 3,
   "metadata": {},
   "outputs": [
    {
     "name": "stderr",
     "output_type": "stream",
     "text": [
      "c:\\Users\\ga.vaca\\AppData\\Local\\Programs\\Python\\Python311\\Lib\\site-packages\\numpy\\core\\fromnumeric.py:3504: RuntimeWarning: Mean of empty slice.\n",
      "  return _methods._mean(a, axis=axis, dtype=dtype,\n",
      "c:\\Users\\ga.vaca\\AppData\\Local\\Programs\\Python\\Python311\\Lib\\site-packages\\numpy\\core\\_methods.py:129: RuntimeWarning: invalid value encountered in scalar divide\n",
      "  ret = ret.dtype.type(ret / rcount)\n",
      "c:\\Users\\ga.vaca\\AppData\\Local\\Programs\\Python\\Python311\\Lib\\site-packages\\numpy\\core\\_methods.py:206: RuntimeWarning: Degrees of freedom <= 0 for slice\n",
      "  ret = _var(a, axis=axis, dtype=dtype, out=out, ddof=ddof,\n",
      "c:\\Users\\ga.vaca\\AppData\\Local\\Programs\\Python\\Python311\\Lib\\site-packages\\numpy\\core\\_methods.py:163: RuntimeWarning: invalid value encountered in divide\n",
      "  arrmean = um.true_divide(arrmean, div, out=arrmean,\n",
      "c:\\Users\\ga.vaca\\AppData\\Local\\Programs\\Python\\Python311\\Lib\\site-packages\\numpy\\core\\_methods.py:198: RuntimeWarning: invalid value encountered in scalar divide\n",
      "  ret = ret.dtype.type(ret / rcount)\n",
      "c:\\Users\\ga.vaca\\AppData\\Local\\Programs\\Python\\Python311\\Lib\\site-packages\\numpy\\core\\fromnumeric.py:3504: RuntimeWarning: Mean of empty slice.\n",
      "  return _methods._mean(a, axis=axis, dtype=dtype,\n",
      "c:\\Users\\ga.vaca\\AppData\\Local\\Programs\\Python\\Python311\\Lib\\site-packages\\numpy\\core\\_methods.py:129: RuntimeWarning: invalid value encountered in scalar divide\n",
      "  ret = ret.dtype.type(ret / rcount)\n",
      "c:\\Users\\ga.vaca\\AppData\\Local\\Programs\\Python\\Python311\\Lib\\site-packages\\numpy\\core\\_methods.py:206: RuntimeWarning: Degrees of freedom <= 0 for slice\n",
      "  ret = _var(a, axis=axis, dtype=dtype, out=out, ddof=ddof,\n",
      "c:\\Users\\ga.vaca\\AppData\\Local\\Programs\\Python\\Python311\\Lib\\site-packages\\numpy\\core\\_methods.py:163: RuntimeWarning: invalid value encountered in divide\n",
      "  arrmean = um.true_divide(arrmean, div, out=arrmean,\n",
      "c:\\Users\\ga.vaca\\AppData\\Local\\Programs\\Python\\Python311\\Lib\\site-packages\\numpy\\core\\_methods.py:198: RuntimeWarning: invalid value encountered in scalar divide\n",
      "  ret = ret.dtype.type(ret / rcount)\n"
     ]
    },
    {
     "ename": "NameError",
     "evalue": "name 'desired_program' is not defined",
     "output_type": "error",
     "traceback": [
      "\u001b[1;31m---------------------------------------------------------------------------\u001b[0m",
      "\u001b[1;31mNameError\u001b[0m                                 Traceback (most recent call last)",
      "\u001b[1;32mc:\\Users\\ga.vaca\\Desktop\\Dashboard\\Dashboard_IBIO\\run.ipynb Cell 3\u001b[0m line \u001b[0;36m1\n\u001b[0;32m     <a href='vscode-notebook-cell:/c%3A/Users/ga.vaca/Desktop/Dashboard/Dashboard_IBIO/run.ipynb#W2sZmlsZQ%3D%3D?line=9'>10</a>\u001b[0m mean_dataframe, desv_dataframe, results, mean_sancionados, desv_sancionados, sancionados_dict \u001b[39m=\u001b[39m avance_cohortes(cursos_excelPath, sancionados_excelPath, desired_program)\n\u001b[0;32m     <a href='vscode-notebook-cell:/c%3A/Users/ga.vaca/Desktop/Dashboard/Dashboard_IBIO/run.ipynb#W2sZmlsZQ%3D%3D?line=10'>11</a>\u001b[0m mean_avance_hist \u001b[39m=\u001b[39m historico_cohortes(cursos_excelPath, sancionados_excelPath, desired_program)\n\u001b[1;32m---> <a href='vscode-notebook-cell:/c%3A/Users/ga.vaca/Desktop/Dashboard/Dashboard_IBIO/run.ipynb#W2sZmlsZQ%3D%3D?line=11'>12</a>\u001b[0m plot_historico_cohortes(cursos_excelPath, sancionados_excelPath, mean_dataframe, desv_dataframe, mean_avance_hist, directory_name)\n",
      "File \u001b[1;32mc:\\Users\\ga.vaca\\Desktop\\Dashboard\\Dashboard_IBIO\\final.py:565\u001b[0m, in \u001b[0;36mplot_historico_cohortes\u001b[1;34m(xlsx_cursos, xlsx_sancionados, mean_dataframe, desv_dataframe, mean_avance_hist, directory)\u001b[0m\n\u001b[0;32m    563\u001b[0m pensum_courses \u001b[39m=\u001b[39m \u001b[39mlist\u001b[39m(cursos\u001b[39m.\u001b[39mkeys())\n\u001b[0;32m    564\u001b[0m xlsx \u001b[39m=\u001b[39m pd\u001b[39m.\u001b[39mread_excel(xlsx_cursos)\n\u001b[1;32m--> 565\u001b[0m mask \u001b[39m=\u001b[39m xlsx[\u001b[39m'\u001b[39m\u001b[39mPrograma principal\u001b[39m\u001b[39m'\u001b[39m] \u001b[39m==\u001b[39m desired_program\n\u001b[0;32m    566\u001b[0m solo_IBIO \u001b[39m=\u001b[39m soloIBIO_df(xlsx, mask)\n\u001b[0;32m    567\u001b[0m solo_IBIO, todosPeriodos \u001b[39m=\u001b[39m IBIO_columns(solo_IBIO, pensum_courses)\n",
      "\u001b[1;31mNameError\u001b[0m: name 'desired_program' is not defined"
     ]
    }
   ],
   "source": [
    "from final import historico_cohortes, plot_historico_cohortes\n",
    "\n",
    "## Estadisticas historicas por semestre\n",
    "\n",
    "cursos_excelPath = \"Data/Cursos IBIO 2018-2023.xlsx\"\n",
    "sancionados_excelPath = \"Data/Estudiantes Sancionados 2021-10.xlsx\"\n",
    "desired_program = 'INGENIERIA BIOMEDICA'\n",
    "directory_name = \"Historico_cohortes\"\n",
    "\n",
    "mean_dataframe, desv_dataframe, results, mean_sancionados, desv_sancionados, sancionados_dict = avance_cohortes(cursos_excelPath, sancionados_excelPath, desired_program)\n",
    "mean_avance_hist = historico_cohortes(cursos_excelPath, sancionados_excelPath, desired_program)\n",
    "plot_historico_cohortes(cursos_excelPath, sancionados_excelPath, mean_dataframe, desv_dataframe, mean_avance_hist, directory_name, desired_program)"
   ]
  },
  {
   "cell_type": "code",
   "execution_count": null,
   "metadata": {},
   "outputs": [],
   "source": [
    "    from final import n_estudiantes, plot_n_cohortes\n",
    "\n",
    "## Graficas de N por cohortes\n",
    "\n",
    "cursos_excelPath = \"Data/Cursos IBIO 2018-2023.xlsx\"\n",
    "sancionados_excelPath = \"Data/Estudiantes Sancionados 2021-10.xlsx\"\n",
    "estudiantes_excelPath = \"Data/Estudiantes IBIO 201810-202220.xlsx\"\n",
    "desired_program = 'INGENIERIA BIOMEDICA'\n",
    "directory_name = \"N_cohortes\"\n",
    "\n",
    "n_dataframe, mean_n_hist, n_sancionados = n_estudiantes(cursos_excelPath, sancionados_excelPath, estudiantes_excelPath, desired_program)\n",
    "plot_n_cohortes(cursos_excelPath, n_dataframe, mean_n_hist, directory_name, desired_program)"
   ]
  },
  {
   "cell_type": "code",
   "execution_count": 4,
   "metadata": {},
   "outputs": [
    {
     "name": "stderr",
     "output_type": "stream",
     "text": [
      "Graphics Creating: 100%|██████████| 13/13 [00:01<00:00,  7.62it/s]\n"
     ]
    }
   ],
   "source": [
    "from final import avanceNivel\n",
    "# Estadisticas de retiros & aprobados por materia IBIO\n",
    "## En esta parte se calculan los piecharts por materia en cada periodo\n",
    "\n",
    "path = \"Data/Cursos IBIO 2018-2023.xlsx\"\n",
    "desired_program = 'INGENIERIA BIOMEDICA'\n",
    "directory_name = 'Resultados_por_Materia'\n",
    "\n",
    "avanceNivel(path, desired_program, directory_name)"
   ]
  },
  {
   "cell_type": "code",
   "execution_count": 5,
   "metadata": {},
   "outputs": [],
   "source": [
    "from final import Retiros\n",
    "# Estadisticas de retiros & aprobados por materia IBIO\n",
    "## En esta parte se calculan los piecharts por materia en cada periodo\n",
    "\n",
    "path_retiros = \"Data/Retiros 2018-10 a 202310.xlsx\"\n",
    "path_estudiantes = \"Data/Cursos IBIO 2018-2023.xlsx\"\n",
    "desired_program = 'INGENIERIA BIOMEDICA'\n",
    "directory_name = 'Resultados_por_Materia'\n",
    "\n",
    "Retiros (path_retiros, path_estudiantes, desired_program, directory_name)"
   ]
  },
  {
   "cell_type": "code",
   "execution_count": null,
   "metadata": {},
   "outputs": [],
   "source": [
    "from final import sancionados\n",
    "\n",
    "## Estadísticas sancionados\n",
    "\n",
    "cursos_excelPath = \"Data/Cursos IBIO 2018-2023.xlsx\"\n",
    "sancionados_excelPath = \"Data/Estudiantes Sancionados 2021-10.xlsx\"\n",
    "estudiantes_excelPath = \"Data/Estudiantes IBIO 201810-202220.xlsx\"\n",
    "desired_program = 'INGENIERIA BIOMEDICA'\n",
    "directory_name = \"Sancionados\"\n",
    "\n",
    "sancionados(cursos_excelPath, directory_name, desired_program, sancionados_excelPath, estudiantes_excelPath)"
   ]
  }
 ],
 "metadata": {
  "kernelspec": {
   "display_name": "base",
   "language": "python",
   "name": "python3"
  },
  "language_info": {
   "codemirror_mode": {
    "name": "ipython",
    "version": 3
   },
   "file_extension": ".py",
   "mimetype": "text/x-python",
   "name": "python",
   "nbconvert_exporter": "python",
   "pygments_lexer": "ipython3",
   "version": "3.11.5"
  },
  "orig_nbformat": 4
 },
 "nbformat": 4,
 "nbformat_minor": 2
}
