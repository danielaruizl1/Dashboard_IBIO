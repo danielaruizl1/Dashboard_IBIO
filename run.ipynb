{
 "cells": [
  {
   "cell_type": "code",
   "execution_count": 1,
   "metadata": {},
   "outputs": [],
   "source": [
    "## RUTAS Y VARIABLES IMPORTANTES (Esta celda debe ejecutarse antes que las demás)\n",
    "\n",
    "# Escriba el periodo actual o el periodo hasta el cual quiere calcular las estadísticas. Ej: \"201810\"\n",
    "periodo_actual = \"202410\"\n",
    "# Escriba el programa principal para el cual quiere calcular las estadísticas. Ej: \"INGENIERIA BIOMEDICA\"\n",
    "programa_principal = \"INGENIERIA BIOMEDICA\"\n",
    "# Ruta al archivo de datos de los cursos\n",
    "cursos_excelPath = f\"Data/Cursos IBIO 2018-{periodo_actual}.xlsx\"\n",
    "# Ruta al archivo de datos de los estudiantes\n",
    "estudiantes_excelPath = f\"Data/Estudiantes IBIO 2018-{periodo_actual}.xlsx\"\n",
    "# Ruta al archivo de datos de los sancionados\n",
    "sancionados_excelPath = \"Data/Estudiantes Sancionados 2021-10.xlsx\"\n",
    "# Ruta al archivo de datos de los estudiantes que se retiraron\n",
    "path_retiros = \"Data/Retiros 2018-10 a 202320.xlsx\""
   ]
  },
  {
   "cell_type": "code",
   "execution_count": 2,
   "metadata": {},
   "outputs": [
    {
     "name": "stderr",
     "output_type": "stream",
     "text": [
      "Processing Periods:  92%|█████████▏| 12/13 [00:17<00:01,  1.44s/it]"
     ]
    },
    {
     "name": "stdout",
     "output_type": "stream",
     "text": [
      "202410\n",
      "202410\n",
      "202410\n",
      "202410\n",
      "202410\n",
      "202410\n",
      "202410\n",
      "202410\n",
      "202410\n",
      "202410\n",
      "202410\n"
     ]
    },
    {
     "name": "stderr",
     "output_type": "stream",
     "text": [
      "Processing Periods: 100%|██████████| 13/13 [00:18<00:00,  1.44s/it]"
     ]
    },
    {
     "name": "stdout",
     "output_type": "stream",
     "text": [
      "202410\n",
      "202410\n"
     ]
    },
    {
     "name": "stderr",
     "output_type": "stream",
     "text": [
      "\n",
      "Processing Periods:  92%|█████████▏| 12/13 [00:18<00:01,  1.60s/it]"
     ]
    },
    {
     "name": "stdout",
     "output_type": "stream",
     "text": [
      "202410\n",
      "202410\n",
      "202410\n",
      "202410\n",
      "202410\n",
      "202410\n",
      "202410\n",
      "202410\n",
      "202410\n",
      "202410\n",
      "202410\n",
      "202410\n"
     ]
    },
    {
     "name": "stderr",
     "output_type": "stream",
     "text": [
      "Processing Periods: 100%|██████████| 13/13 [00:20<00:00,  1.54s/it]"
     ]
    },
    {
     "name": "stdout",
     "output_type": "stream",
     "text": [
      "202410\n"
     ]
    },
    {
     "name": "stderr",
     "output_type": "stream",
     "text": [
      "\n"
     ]
    }
   ],
   "source": [
    "from final import mainMaterias\n",
    "## En esta parte se calculan los piecharts por materia en cada periodo\n",
    "\n",
    "directory_name = f'RESULTS_{periodo_actual}/PieCharts_por_Materia' #Nombre de la carpeta donde queremos que se guarden los resultados\n",
    "mainMaterias(cursos_excelPath, programa_principal, directory_name)"
   ]
  },
  {
   "cell_type": "code",
   "execution_count": 3,
   "metadata": {},
   "outputs": [
    {
     "name": "stderr",
     "output_type": "stream",
     "text": [
      "Processing Periods:   0%|          | 0/13 [00:00<?, ?it/s]\n"
     ]
    },
    {
     "ename": "AttributeError",
     "evalue": "module 'matplotlib.pyplot' has no attribute 'set_facecolor'",
     "output_type": "error",
     "traceback": [
      "\u001b[0;31m---------------------------------------------------------------------------\u001b[0m",
      "\u001b[0;31mAttributeError\u001b[0m                            Traceback (most recent call last)",
      "\u001b[0;32m/tmp/ipykernel_402029/2352247538.py\u001b[0m in \u001b[0;36m<module>\u001b[0;34m\u001b[0m\n\u001b[1;32m      3\u001b[0m \u001b[0;34m\u001b[0m\u001b[0m\n\u001b[1;32m      4\u001b[0m \u001b[0mdirectory_name\u001b[0m \u001b[0;34m=\u001b[0m \u001b[0;34mf\"RESULTS_{periodo_actual}/PieCharts_por_cohorte\"\u001b[0m\u001b[0;34m\u001b[0m\u001b[0;34m\u001b[0m\u001b[0m\n\u001b[0;32m----> 5\u001b[0;31m \u001b[0mmean_dataframe\u001b[0m\u001b[0;34m,\u001b[0m \u001b[0mdesv_dataframe\u001b[0m\u001b[0;34m,\u001b[0m \u001b[0mresults\u001b[0m\u001b[0;34m,\u001b[0m \u001b[0mmean_sancionados\u001b[0m\u001b[0;34m,\u001b[0m \u001b[0mdesv_sancionados\u001b[0m\u001b[0;34m,\u001b[0m \u001b[0msancionados_dict\u001b[0m \u001b[0;34m=\u001b[0m \u001b[0mavance_cohortes\u001b[0m\u001b[0;34m(\u001b[0m\u001b[0mcursos_excelPath\u001b[0m\u001b[0;34m,\u001b[0m \u001b[0msancionados_excelPath\u001b[0m\u001b[0;34m,\u001b[0m \u001b[0mprograma_principal\u001b[0m\u001b[0;34m,\u001b[0m \u001b[0mdirectory_name\u001b[0m\u001b[0;34m)\u001b[0m\u001b[0;34m\u001b[0m\u001b[0;34m\u001b[0m\u001b[0m\n\u001b[0m",
      "\u001b[0;32m/media/SSD3/jpuentes/DashEnero/Dashboard_IBIO/final.py\u001b[0m in \u001b[0;36mavance_cohortes\u001b[0;34m(xlsx_cursos, xlsx_sancionados, desired_program, directory_name)\u001b[0m\n\u001b[1;32m    394\u001b[0m \u001b[0;34m\u001b[0m\u001b[0m\n\u001b[1;32m    395\u001b[0m             \u001b[0;32mif\u001b[0m \u001b[0mdirectory_name\u001b[0m \u001b[0;34m!=\u001b[0m \u001b[0;32mNone\u001b[0m\u001b[0;34m:\u001b[0m\u001b[0;34m\u001b[0m\u001b[0;34m\u001b[0m\u001b[0m\n\u001b[0;32m--> 396\u001b[0;31m                 \u001b[0mplot_avance_cohortes\u001b[0m\u001b[0;34m(\u001b[0m\u001b[0mtodosPeriodos\u001b[0m\u001b[0;34m[\u001b[0m\u001b[0mi\u001b[0m\u001b[0;34m]\u001b[0m\u001b[0;34m,\u001b[0m \u001b[0mresults\u001b[0m\u001b[0;34m,\u001b[0m \u001b[0mdirectory_name\u001b[0m\u001b[0;34m)\u001b[0m\u001b[0;34m\u001b[0m\u001b[0;34m\u001b[0m\u001b[0m\n\u001b[0m\u001b[1;32m    397\u001b[0m \u001b[0;34m\u001b[0m\u001b[0m\n\u001b[1;32m    398\u001b[0m         \u001b[0;31m#Stadisticas cohorte\u001b[0m\u001b[0;34m\u001b[0m\u001b[0;34m\u001b[0m\u001b[0m\n",
      "\u001b[0;32m/media/SSD3/jpuentes/DashEnero/Dashboard_IBIO/final.py\u001b[0m in \u001b[0;36mplot_avance_cohortes\u001b[0;34m(period, results, directory_name)\u001b[0m\n\u001b[1;32m    462\u001b[0m     \u001b[0mplt\u001b[0m\u001b[0;34m.\u001b[0m\u001b[0mtitle\u001b[0m\u001b[0;34m(\u001b[0m\u001b[0;34mf'Avance de todos los estudiantes en el periodo {period}'\u001b[0m\u001b[0;34m,\u001b[0m \u001b[0mfontdict\u001b[0m\u001b[0;34m=\u001b[0m\u001b[0;34m{\u001b[0m\u001b[0;34m'fontsize'\u001b[0m\u001b[0;34m:\u001b[0m\u001b[0;36m22\u001b[0m\u001b[0;34m,\u001b[0m \u001b[0;34m'weight'\u001b[0m\u001b[0;34m:\u001b[0m \u001b[0;34m'bold'\u001b[0m\u001b[0;34m}\u001b[0m\u001b[0;34m)\u001b[0m\u001b[0;34m\u001b[0m\u001b[0;34m\u001b[0m\u001b[0m\n\u001b[1;32m    463\u001b[0m     \u001b[0mplt\u001b[0m\u001b[0;34m.\u001b[0m\u001b[0mlegend\u001b[0m\u001b[0;34m(\u001b[0m\u001b[0mall_cohortes\u001b[0m\u001b[0;34m.\u001b[0m\u001b[0mkeys\u001b[0m\u001b[0;34m(\u001b[0m\u001b[0;34m)\u001b[0m\u001b[0;34m)\u001b[0m\u001b[0;34m\u001b[0m\u001b[0;34m\u001b[0m\u001b[0m\n\u001b[0;32m--> 464\u001b[0;31m     \u001b[0mplt\u001b[0m\u001b[0;34m.\u001b[0m\u001b[0mset_facecolor\u001b[0m\u001b[0;34m(\u001b[0m\u001b[0;34m'none'\u001b[0m\u001b[0;34m)\u001b[0m\u001b[0;34m\u001b[0m\u001b[0;34m\u001b[0m\u001b[0m\n\u001b[0m\u001b[1;32m    465\u001b[0m     \u001b[0mplt\u001b[0m\u001b[0;34m.\u001b[0m\u001b[0msavefig\u001b[0m\u001b[0;34m(\u001b[0m\u001b[0;34mf'{directory}/piechart_all_cohortes.png'\u001b[0m\u001b[0;34m)\u001b[0m\u001b[0;34m\u001b[0m\u001b[0;34m\u001b[0m\u001b[0m\n\u001b[1;32m    466\u001b[0m     \u001b[0mplt\u001b[0m\u001b[0;34m.\u001b[0m\u001b[0mcla\u001b[0m\u001b[0;34m(\u001b[0m\u001b[0;34m)\u001b[0m\u001b[0;34m\u001b[0m\u001b[0;34m\u001b[0m\u001b[0m\n",
      "\u001b[0;31mAttributeError\u001b[0m: module 'matplotlib.pyplot' has no attribute 'set_facecolor'"
     ]
    },
    {
     "data": {
      "image/png": "[encoded data removed]",
      "text/plain": [
       "<Figure size 720x720 with 1 Axes>"
      ]
     },
     "metadata": {},
     "output_type": "display_data"
    }
   ],
   "source": [
    "from final import avance_cohortes\n",
    "## En esta parte se calculan los piecharts por cohorte en cada periodo\n",
    "\n",
    "directory_name = f\"RESULTS_{periodo_actual}/PieCharts_por_cohorte\"\n",
    "mean_dataframe, desv_dataframe, results, mean_sancionados, desv_sancionados, sancionados_dict = avance_cohortes(cursos_excelPath, sancionados_excelPath, programa_principal, directory_name)"
   ]
  },
  {
   "cell_type": "code",
   "execution_count": 6,
   "metadata": {},
   "outputs": [
    {
     "name": "stderr",
     "output_type": "stream",
     "text": [
      "Processing Periods: 100%|██████████| 13/13 [00:06<00:00,  1.86it/s]\n",
      "Processing Periods: 100%|██████████| 13/13 [00:06<00:00,  1.88it/s]\n",
      "Processing Periods: 100%|██████████| 13/13 [00:07<00:00,  1.79it/s]\n"
     ]
    }
   ],
   "source": [
    "from final import avance_cohortes, historico_cohortes, plot_historico_cohortes\n",
    "## Estadisticas historicas por semestre\n",
    "\n",
    "directory_name = f\"RESULTS_{periodo_actual}/Historico_cohortes\"\n",
    "mean_dataframe, desv_dataframe, results, mean_sancionados, desv_sancionados, sancionados_dict = avance_cohortes(cursos_excelPath, sancionados_excelPath, desired_program)\n",
    "mean_avance_hist = historico_cohortes(cursos_excelPath, sancionados_excelPath, programa_principal)\n",
    "plot_historico_cohortes(cursos_excelPath, sancionados_excelPath, mean_dataframe, desv_dataframe, mean_avance_hist, directory_name, desired_program)"
   ]
  },
  {
   "cell_type": "code",
   "execution_count": null,
   "metadata": {},
   "outputs": [],
   "source": [
    "from final import n_estudiantes, plot_n_cohortes\n",
    "## Graficas de N por cohortes\n",
    "\n",
    "directory_name = f\"RESULTS_{periodo_actual}/N_cohortes\"\n",
    "n_dataframe, mean_n_hist, n_sancionados = n_estudiantes(cursos_excelPath, sancionados_excelPath, estudiantes_excelPath, programa_principal)\n",
    "plot_n_cohortes(cursos_excelPath, n_dataframe, mean_n_hist, directory_name, programa_principal)"
   ]
  },
  {
   "cell_type": "markdown",
   "metadata": {},
   "source": []
  },
  {
   "cell_type": "code",
   "execution_count": 3,
   "metadata": {},
   "outputs": [
    {
     "name": "stderr",
     "output_type": "stream",
     "text": [
      "Graphics Creating: 100%|██████████| 13/13 [00:10<00:00,  1.27it/s]\n"
     ]
    }
   ],
   "source": [
    "from final import avanceNivel\n",
    "# Estadisticas de retiros & aprobados por materia IBIO\n",
    "## En esta parte se calculan los piecharts por materia en cada periodo\n",
    "\n",
    "directory_name = f'RESULTS_{periodo_actual}/Resultados_por_Materia'\n",
    "avanceNivel(cursos_excelPath, programa_principal, directory_name)"
   ]
  },
  {
   "cell_type": "code",
   "execution_count": 4,
   "metadata": {},
   "outputs": [
    {
     "name": "stderr",
     "output_type": "stream",
     "text": [
      "c:\\Users\\usuario\\Desktop\\Daniela\\Estudio\\Universidad\\BCV\\Dashboard_IBIO\\final.py:204: SettingWithCopyWarning: \n",
      "A value is trying to be set on a copy of a slice from a DataFrame.\n",
      "Try using .loc[row_indexer,col_indexer] = value instead\n",
      "\n",
      "See the caveats in the documentation: https://pandas.pydata.org/pandas-docs/stable/user_guide/indexing.html#returning-a-view-versus-a-copy\n",
      "  materia_data['Periodo'] = materia_data['Periodo'].astype(str)\n",
      "c:\\Users\\usuario\\Desktop\\Daniela\\Estudio\\Universidad\\BCV\\Dashboard_IBIO\\final.py:204: SettingWithCopyWarning: \n",
      "A value is trying to be set on a copy of a slice from a DataFrame.\n",
      "Try using .loc[row_indexer,col_indexer] = value instead\n",
      "\n",
      "See the caveats in the documentation: https://pandas.pydata.org/pandas-docs/stable/user_guide/indexing.html#returning-a-view-versus-a-copy\n",
      "  materia_data['Periodo'] = materia_data['Periodo'].astype(str)\n",
      "c:\\Users\\usuario\\Desktop\\Daniela\\Estudio\\Universidad\\BCV\\Dashboard_IBIO\\final.py:204: SettingWithCopyWarning: \n",
      "A value is trying to be set on a copy of a slice from a DataFrame.\n",
      "Try using .loc[row_indexer,col_indexer] = value instead\n",
      "\n",
      "See the caveats in the documentation: https://pandas.pydata.org/pandas-docs/stable/user_guide/indexing.html#returning-a-view-versus-a-copy\n",
      "  materia_data['Periodo'] = materia_data['Periodo'].astype(str)\n",
      "c:\\Users\\usuario\\Desktop\\Daniela\\Estudio\\Universidad\\BCV\\Dashboard_IBIO\\final.py:204: SettingWithCopyWarning: \n",
      "A value is trying to be set on a copy of a slice from a DataFrame.\n",
      "Try using .loc[row_indexer,col_indexer] = value instead\n",
      "\n",
      "See the caveats in the documentation: https://pandas.pydata.org/pandas-docs/stable/user_guide/indexing.html#returning-a-view-versus-a-copy\n",
      "  materia_data['Periodo'] = materia_data['Periodo'].astype(str)\n",
      "c:\\Users\\usuario\\Desktop\\Daniela\\Estudio\\Universidad\\BCV\\Dashboard_IBIO\\final.py:204: SettingWithCopyWarning: \n",
      "A value is trying to be set on a copy of a slice from a DataFrame.\n",
      "Try using .loc[row_indexer,col_indexer] = value instead\n",
      "\n",
      "See the caveats in the documentation: https://pandas.pydata.org/pandas-docs/stable/user_guide/indexing.html#returning-a-view-versus-a-copy\n",
      "  materia_data['Periodo'] = materia_data['Periodo'].astype(str)\n",
      "c:\\Users\\usuario\\Desktop\\Daniela\\Estudio\\Universidad\\BCV\\Dashboard_IBIO\\final.py:204: SettingWithCopyWarning: \n",
      "A value is trying to be set on a copy of a slice from a DataFrame.\n",
      "Try using .loc[row_indexer,col_indexer] = value instead\n",
      "\n",
      "See the caveats in the documentation: https://pandas.pydata.org/pandas-docs/stable/user_guide/indexing.html#returning-a-view-versus-a-copy\n",
      "  materia_data['Periodo'] = materia_data['Periodo'].astype(str)\n",
      "c:\\Users\\usuario\\Desktop\\Daniela\\Estudio\\Universidad\\BCV\\Dashboard_IBIO\\final.py:204: SettingWithCopyWarning: \n",
      "A value is trying to be set on a copy of a slice from a DataFrame.\n",
      "Try using .loc[row_indexer,col_indexer] = value instead\n",
      "\n",
      "See the caveats in the documentation: https://pandas.pydata.org/pandas-docs/stable/user_guide/indexing.html#returning-a-view-versus-a-copy\n",
      "  materia_data['Periodo'] = materia_data['Periodo'].astype(str)\n",
      "c:\\Users\\usuario\\Desktop\\Daniela\\Estudio\\Universidad\\BCV\\Dashboard_IBIO\\final.py:204: SettingWithCopyWarning: \n",
      "A value is trying to be set on a copy of a slice from a DataFrame.\n",
      "Try using .loc[row_indexer,col_indexer] = value instead\n",
      "\n",
      "See the caveats in the documentation: https://pandas.pydata.org/pandas-docs/stable/user_guide/indexing.html#returning-a-view-versus-a-copy\n",
      "  materia_data['Periodo'] = materia_data['Periodo'].astype(str)\n",
      "c:\\Users\\usuario\\Desktop\\Daniela\\Estudio\\Universidad\\BCV\\Dashboard_IBIO\\final.py:204: SettingWithCopyWarning: \n",
      "A value is trying to be set on a copy of a slice from a DataFrame.\n",
      "Try using .loc[row_indexer,col_indexer] = value instead\n",
      "\n",
      "See the caveats in the documentation: https://pandas.pydata.org/pandas-docs/stable/user_guide/indexing.html#returning-a-view-versus-a-copy\n",
      "  materia_data['Periodo'] = materia_data['Periodo'].astype(str)\n",
      "c:\\Users\\usuario\\Desktop\\Daniela\\Estudio\\Universidad\\BCV\\Dashboard_IBIO\\final.py:204: SettingWithCopyWarning: \n",
      "A value is trying to be set on a copy of a slice from a DataFrame.\n",
      "Try using .loc[row_indexer,col_indexer] = value instead\n",
      "\n",
      "See the caveats in the documentation: https://pandas.pydata.org/pandas-docs/stable/user_guide/indexing.html#returning-a-view-versus-a-copy\n",
      "  materia_data['Periodo'] = materia_data['Periodo'].astype(str)\n",
      "c:\\Users\\usuario\\Desktop\\Daniela\\Estudio\\Universidad\\BCV\\Dashboard_IBIO\\final.py:204: SettingWithCopyWarning: \n",
      "A value is trying to be set on a copy of a slice from a DataFrame.\n",
      "Try using .loc[row_indexer,col_indexer] = value instead\n",
      "\n",
      "See the caveats in the documentation: https://pandas.pydata.org/pandas-docs/stable/user_guide/indexing.html#returning-a-view-versus-a-copy\n",
      "  materia_data['Periodo'] = materia_data['Periodo'].astype(str)\n",
      "c:\\Users\\usuario\\Desktop\\Daniela\\Estudio\\Universidad\\BCV\\Dashboard_IBIO\\final.py:204: SettingWithCopyWarning: \n",
      "A value is trying to be set on a copy of a slice from a DataFrame.\n",
      "Try using .loc[row_indexer,col_indexer] = value instead\n",
      "\n",
      "See the caveats in the documentation: https://pandas.pydata.org/pandas-docs/stable/user_guide/indexing.html#returning-a-view-versus-a-copy\n",
      "  materia_data['Periodo'] = materia_data['Periodo'].astype(str)\n",
      "c:\\Users\\usuario\\Desktop\\Daniela\\Estudio\\Universidad\\BCV\\Dashboard_IBIO\\final.py:204: SettingWithCopyWarning: \n",
      "A value is trying to be set on a copy of a slice from a DataFrame.\n",
      "Try using .loc[row_indexer,col_indexer] = value instead\n",
      "\n",
      "See the caveats in the documentation: https://pandas.pydata.org/pandas-docs/stable/user_guide/indexing.html#returning-a-view-versus-a-copy\n",
      "  materia_data['Periodo'] = materia_data['Periodo'].astype(str)\n"
     ]
    }
   ],
   "source": [
    "from final import Retiros\n",
    "# Estadisticas de retiros & aprobados por materia IBIO\n",
    "## En esta parte se calculan los piecharts por materia en cada periodo\n",
    "\n",
    "directory_name = f'RESULTS_{periodo_actual}/Resultados_por_Materia'\n",
    "Retiros (path_retiros, cursos_excelPath, programa_principal, directory_name)"
   ]
  },
  {
   "cell_type": "code",
   "execution_count": 5,
   "metadata": {},
   "outputs": [
    {
     "name": "stderr",
     "output_type": "stream",
     "text": [
      "Processing Periods: 100%|██████████| 13/13 [00:06<00:00,  1.93it/s]\n",
      "Processing Periods: 100%|██████████| 13/13 [00:09<00:00,  1.34it/s]\n"
     ]
    }
   ],
   "source": [
    "from final import sancionados\n",
    "## Estadísticas sancionados\n",
    "\n",
    "directory_name = f\"RESULTS_{periodo_actual}/Sancionados\"\n",
    "sancionados(cursos_excelPath, directory_name, programa_principal, sancionados_excelPath)"
   ]
  },
  {
   "cell_type": "code",
   "execution_count": 3,
   "metadata": {},
   "outputs": [
    {
     "name": "stderr",
     "output_type": "stream",
     "text": [
      "Processing Periods: 100%|██████████| 13/13 [00:08<00:00,  1.60it/s]\n"
     ]
    }
   ],
   "source": [
    "from final import general_plots, historico_cohortes, n_estudiantes\n",
    "## Gráficas generales\n",
    "\n",
    "directory_name = f\"RESULTS_{periodo_actual}/Graficas_Generales\"\n",
    "mean_avance_hist = historico_cohortes(cursos_excelPath, sancionados_excelPath, programa_principal)\n",
    "n_dataframe, mean_n_hist, n_sancionados = n_estudiantes(cursos_excelPath, sancionados_excelPath, estudiantes_excelPath, programa_principal)\n",
    "\n",
    "general_plots(estudiantes_excelPath, mean_avance_hist, mean_n_hist, directory_name)"
   ]
  }
 ],
 "metadata": {
  "kernelspec": {
   "display_name": "base",
   "language": "python",
   "name": "python3"
  },
  "language_info": {
   "codemirror_mode": {
    "name": "ipython",
    "version": 3
   },
   "file_extension": ".py",
   "mimetype": "text/x-python",
   "name": "python",
   "nbconvert_exporter": "python",
   "pygments_lexer": "ipython3",
   "version": "3.10.12"
  },
  "orig_nbformat": 4
 },
 "nbformat": 4,
 "nbformat_minor": 2
}
