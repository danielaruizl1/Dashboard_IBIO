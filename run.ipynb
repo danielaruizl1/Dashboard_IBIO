{
 "cells": [
  {
   "cell_type": "code",
   "execution_count": 1,
   "metadata": {},
   "outputs": [
    {
     "name": "stderr",
     "output_type": "stream",
     "text": [
      "Processing Periods: 100%|██████████| 11/11 [00:14<00:00,  1.30s/it]\n"
     ]
    }
   ],
   "source": [
    "from final import mainMaterias\n",
    "\n",
    "## En esta parte se calculan los piecharts por materia en cada periodo\n",
    "\n",
    "cursos_excelPath = \"Data/Cursos IBIO 2018-2023.xlsx\"\n",
    "desired_program = 'INGENIERIA BIOMEDICA'\n",
    "directory_name = 'RESULTS/PieCharts_por_Materia' #Nombre de la carpeta donde queremos que se guarden los resultados\n",
    "\n",
    "mainMaterias(cursos_excelPath, desired_program, directory_name)"
   ]
  },
  {
   "cell_type": "code",
   "execution_count": 2,
   "metadata": {},
   "outputs": [
    {
     "name": "stderr",
     "output_type": "stream",
     "text": [
      "/home/jpuentes/.local/lib/python3.10/site-packages/numpy/core/fromnumeric.py:3432: RuntimeWarning: Mean of empty slice.\n",
      "  return _methods._mean(a, axis=axis, dtype=dtype,\n",
      "/home/jpuentes/.local/lib/python3.10/site-packages/numpy/core/_methods.py:190: RuntimeWarning: invalid value encountered in double_scalars\n",
      "  ret = ret.dtype.type(ret / rcount)\n",
      "/home/jpuentes/.local/lib/python3.10/site-packages/numpy/core/_methods.py:265: RuntimeWarning: Degrees of freedom <= 0 for slice\n",
      "  ret = _var(a, axis=axis, dtype=dtype, out=out, ddof=ddof,\n",
      "/home/jpuentes/.local/lib/python3.10/site-packages/numpy/core/_methods.py:223: RuntimeWarning: invalid value encountered in divide\n",
      "  arrmean = um.true_divide(arrmean, div, out=arrmean, casting='unsafe',\n",
      "/home/jpuentes/.local/lib/python3.10/site-packages/numpy/core/_methods.py:257: RuntimeWarning: invalid value encountered in double_scalars\n",
      "  ret = ret.dtype.type(ret / rcount)\n"
     ]
    }
   ],
   "source": [
    "from final import avance_cohortes, plot_avance_cohortes\n",
    "\n",
    "## En esta parte se calculan los piecharts por cohorte en cada periodo\n",
    "\n",
    "cursos_excelPath = \"Data/Cursos IBIO 2018-2023.xlsx\"\n",
    "sancionados_excelPath = \"Data/Estudiantes Sancionados 2021-10.xlsx\"\n",
    "desired_program = 'INGENIERIA BIOMEDICA'\n",
    "directory_name = \"RESULTS/PieCharts_por_cohorte\"\n",
    "\n",
    "mean_dataframe, desv_dataframe, results, mean_sancionados, desv_sancionados, sancionados_dict = avance_cohortes(cursos_excelPath, sancionados_excelPath, desired_program)\n",
    "plot_avance_cohortes(cursos_excelPath, results, directory_name, desired_program)"
   ]
  },
  {
   "cell_type": "code",
   "execution_count": 3,
   "metadata": {},
   "outputs": [
    {
     "name": "stderr",
     "output_type": "stream",
     "text": [
      "/home/jpuentes/.local/lib/python3.10/site-packages/numpy/core/fromnumeric.py:3432: RuntimeWarning: Mean of empty slice.\n",
      "  return _methods._mean(a, axis=axis, dtype=dtype,\n",
      "/home/jpuentes/.local/lib/python3.10/site-packages/numpy/core/_methods.py:190: RuntimeWarning: invalid value encountered in double_scalars\n",
      "  ret = ret.dtype.type(ret / rcount)\n",
      "/home/jpuentes/.local/lib/python3.10/site-packages/numpy/core/_methods.py:265: RuntimeWarning: Degrees of freedom <= 0 for slice\n",
      "  ret = _var(a, axis=axis, dtype=dtype, out=out, ddof=ddof,\n",
      "/home/jpuentes/.local/lib/python3.10/site-packages/numpy/core/_methods.py:223: RuntimeWarning: invalid value encountered in divide\n",
      "  arrmean = um.true_divide(arrmean, div, out=arrmean, casting='unsafe',\n",
      "/home/jpuentes/.local/lib/python3.10/site-packages/numpy/core/_methods.py:257: RuntimeWarning: invalid value encountered in double_scalars\n",
      "  ret = ret.dtype.type(ret / rcount)\n"
     ]
    }
   ],
   "source": [
    "from final import historico_cohortes, plot_historico_cohortes\n",
    "\n",
    "## Estadisticas historicas por semestre\n",
    "\n",
    "cursos_excelPath = \"Data/Cursos IBIO 2018-2023.xlsx\"\n",
    "sancionados_excelPath = \"Data/Estudiantes Sancionados 2021-10.xlsx\"\n",
    "desired_program = 'INGENIERIA BIOMEDICA'\n",
    "directory_name = \"RESULTS/Historico_cohortes\"\n",
    "\n",
    "mean_dataframe, desv_dataframe, results, mean_sancionados, desv_sancionados, sancionados_dict = avance_cohortes(cursos_excelPath, sancionados_excelPath, desired_program)\n",
    "mean_avance_hist = historico_cohortes(cursos_excelPath, sancionados_excelPath, desired_program)\n",
    "plot_historico_cohortes(cursos_excelPath, sancionados_excelPath, mean_dataframe, desv_dataframe, mean_avance_hist, directory_name, desired_program)"
   ]
  },
  {
   "cell_type": "code",
   "execution_count": 4,
   "metadata": {},
   "outputs": [],
   "source": [
    "from final import n_estudiantes, plot_n_cohortes\n",
    "\n",
    "## Graficas de N por cohortes\n",
    "\n",
    "cursos_excelPath = \"Data/Cursos IBIO 2018-2023.xlsx\"\n",
    "sancionados_excelPath = \"Data/Estudiantes Sancionados 2021-10.xlsx\"\n",
    "estudiantes_excelPath = \"Data/Estudiantes IBIO 201810-202220.xlsx\"\n",
    "desired_program = 'INGENIERIA BIOMEDICA'\n",
    "directory_name = \"RESULTS/N_cohortes\"\n",
    "\n",
    "n_dataframe, mean_n_hist, n_sancionados = n_estudiantes(cursos_excelPath, sancionados_excelPath, estudiantes_excelPath, desired_program)\n",
    "plot_n_cohortes(cursos_excelPath, n_dataframe, mean_n_hist, directory_name, desired_program)"
   ]
  },
  {
   "cell_type": "markdown",
   "metadata": {},
   "source": []
  },
  {
   "cell_type": "code",
   "execution_count": 3,
   "metadata": {},
   "outputs": [
    {
     "name": "stderr",
     "output_type": "stream",
     "text": [
      "Graphics Creating: 100%|██████████| 13/13 [00:01<00:00,  9.18it/s]\n"
     ]
    }
   ],
   "source": [
    "from final import avanceNivel\n",
    "# Estadisticas de retiros & aprobados por materia IBIO\n",
    "## En esta parte se calculan los piecharts por materia en cada periodo\n",
    "\n",
    "path = \"Data/Cursos IBIO 2018-2023.xlsx\"\n",
    "desired_program = 'INGENIERIA BIOMEDICA'\n",
    "directory_name = 'RESULTS/Resultados_por_Materia'\n",
    "\n",
    "avanceNivel(path, desired_program, directory_name)"
   ]
  },
  {
   "cell_type": "code",
   "execution_count": 2,
   "metadata": {},
   "outputs": [],
   "source": [
    "from final import Retiros\n",
    "# Estadisticas de retiros & aprobados por materia IBIO\n",
    "## En esta parte se calculan los piecharts por materia en cada periodo\n",
    "\n",
    "path_retiros = \"Data/Retiros 2018-10 a 202310.xlsx\"\n",
    "path_estudiantes = \"Data/Cursos IBIO 2018-2023.xlsx\"\n",
    "desired_program = 'INGENIERIA BIOMEDICA'\n",
    "directory_name = 'RESULTS/Resultados_por_Materia'\n",
    "\n",
    "Retiros (path_retiros, path_estudiantes, desired_program, directory_name)"
   ]
  },
  {
   "cell_type": "code",
   "execution_count": 4,
   "metadata": {},
   "outputs": [
    {
     "name": "stderr",
     "output_type": "stream",
     "text": [
      "/home/jpuentes/.local/lib/python3.10/site-packages/numpy/core/fromnumeric.py:3432: RuntimeWarning: Mean of empty slice.\n",
      "  return _methods._mean(a, axis=axis, dtype=dtype,\n",
      "/home/jpuentes/.local/lib/python3.10/site-packages/numpy/core/_methods.py:190: RuntimeWarning: invalid value encountered in double_scalars\n",
      "  ret = ret.dtype.type(ret / rcount)\n",
      "/home/jpuentes/.local/lib/python3.10/site-packages/numpy/core/_methods.py:265: RuntimeWarning: Degrees of freedom <= 0 for slice\n",
      "  ret = _var(a, axis=axis, dtype=dtype, out=out, ddof=ddof,\n",
      "/home/jpuentes/.local/lib/python3.10/site-packages/numpy/core/_methods.py:223: RuntimeWarning: invalid value encountered in divide\n",
      "  arrmean = um.true_divide(arrmean, div, out=arrmean, casting='unsafe',\n",
      "/home/jpuentes/.local/lib/python3.10/site-packages/numpy/core/_methods.py:257: RuntimeWarning: invalid value encountered in double_scalars\n",
      "  ret = ret.dtype.type(ret / rcount)\n"
     ]
    }
   ],
   "source": [
    "from final import sancionados\n",
    "\n",
    "## Estadísticas sancionados\n",
    "\n",
    "cursos_excelPath = \"Data/Cursos IBIO 2018-2023.xlsx\"\n",
    "sancionados_excelPath = \"Data/Estudiantes Sancionados 2021-10.xlsx\"\n",
    "estudiantes_excelPath = \"Data/Estudiantes IBIO 201810-202220.xlsx\"\n",
    "desired_program = 'INGENIERIA BIOMEDICA'\n",
    "directory_name = \"RESULTS/Sancionados\"\n",
    "\n",
    "sancionados(cursos_excelPath, directory_name, desired_program, sancionados_excelPath, estudiantes_excelPath)"
   ]
  }
 ],
 "metadata": {
  "kernelspec": {
   "display_name": "base",
   "language": "python",
   "name": "python3"
  },
  "language_info": {
   "codemirror_mode": {
    "name": "ipython",
    "version": 3
   },
   "file_extension": ".py",
   "mimetype": "text/x-python",
   "name": "python",
   "nbconvert_exporter": "python",
   "pygments_lexer": "ipython3",
   "version": "3.10.12"
  },
  "orig_nbformat": 4
 },
 "nbformat": 4,
 "nbformat_minor": 2
}
