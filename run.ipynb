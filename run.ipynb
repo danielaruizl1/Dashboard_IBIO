{
 "cells": [
  {
   "cell_type": "code",
   "execution_count": 1,
   "metadata": {},
   "outputs": [],
   "source": [
    "## RUTAS Y VARIABLES IMPORTANTES (Esta celda debe ejecutarse antes que las demás)\n",
    "\n",
    "# Escriba el periodo actual o el periodo hasta el cual quiere calcular las estadísticas. Ej: \"201810\"\n",
    "periodo_actual = \"202510\"\n",
    "# Escriba el programa principal para el cual quiere calcular las estadísticas. Ej: \"INGENIERIA BIOMEDICA\"\n",
    "programa_principal = \"INGENIERIA BIOMEDICA\"\n",
    "# Ruta al archivo de datos de los cursos\n",
    "#cursos_excelPath = f\"Data/Cursos IBIO 2018-{periodo_actual}.xlsx\"\n",
    "cursos_excelPath = f\"Data/Cursos Unicos 2018-{periodo_actual}.xlsx\"\n",
    "# Ruta al archivo de datos de los estudiantes\n",
    "estudiantes_excelPath = f\"Data/Estudiantes IBIO 201810-{periodo_actual}.xlsx\"\n",
    "# Ruta al archivo de datos de los sancionados\n",
    "sancionados_excelPath = \"Data/Estudiantes Sancionados 2021-10.xlsx\"\n",
    "# Ruta al archivo de datos de los estudiantes que se retiraron\n",
    "path_retiros = \"Data/Retiros 2018-10 a 202420.xlsx\"\n",
    "# Ruta al archivo de la población de estudiantes IBIO\n",
    "poblacion_IBIO = \"Data/EstudiantesUnicosTotales.xlsx\" "
   ]
  },
  {
   "cell_type": "code",
   "execution_count": 2,
   "metadata": {},
   "outputs": [
    {
     "ename": "KeyError",
     "evalue": "'Programa principal'",
     "output_type": "error",
     "traceback": [
      "\u001b[0;31m---------------------------------------------------------------------------\u001b[0m",
      "\u001b[0;31mKeyError\u001b[0m                                  Traceback (most recent call last)",
      "Cell \u001b[0;32mIn[2], line 1\u001b[0m\n\u001b[0;32m----> 1\u001b[0m \u001b[38;5;28;01mfrom\u001b[39;00m\u001b[38;5;250m \u001b[39m\u001b[38;5;21;01mfinal\u001b[39;00m\u001b[38;5;250m \u001b[39m\u001b[38;5;28;01mimport\u001b[39;00m mainMaterias\n\u001b[1;32m      2\u001b[0m \u001b[38;5;66;03m## En esta parte se calculan los piecharts por materia en cada periodo\u001b[39;00m\n\u001b[1;32m      4\u001b[0m directory_name \u001b[38;5;241m=\u001b[39m \u001b[38;5;124mf\u001b[39m\u001b[38;5;124m'\u001b[39m\u001b[38;5;124mRESULTS_\u001b[39m\u001b[38;5;132;01m{\u001b[39;00mperiodo_actual\u001b[38;5;132;01m}\u001b[39;00m\u001b[38;5;124m/PieCharts_por_Materia\u001b[39m\u001b[38;5;124m'\u001b[39m \u001b[38;5;66;03m#Nombre de la carpeta donde queremos que se guarden los resultados\u001b[39;00m\n",
      "File \u001b[0;32m/media/SSD7/jpuentes2/Dashboard_IBIO/final.py:1092\u001b[0m\n\u001b[1;32m   1089\u001b[0m \u001b[38;5;66;03m## Graficas de N por cohortes\u001b[39;00m\n\u001b[1;32m   1091\u001b[0m directory_name \u001b[38;5;241m=\u001b[39m \u001b[38;5;124mf\u001b[39m\u001b[38;5;124m\"\u001b[39m\u001b[38;5;124mRESULTS_\u001b[39m\u001b[38;5;132;01m{\u001b[39;00mperiodo_actual\u001b[38;5;132;01m}\u001b[39;00m\u001b[38;5;124m/N_cohortes\u001b[39m\u001b[38;5;124m\"\u001b[39m\n\u001b[0;32m-> 1092\u001b[0m n_dataframe, mean_n_hist, n_sancionados \u001b[38;5;241m=\u001b[39m \u001b[43mn_estudiantes\u001b[49m\u001b[43m(\u001b[49m\u001b[43mestudiantes_excelPath\u001b[49m\u001b[43m,\u001b[49m\u001b[43m \u001b[49m\u001b[43msancionados_excelPath\u001b[49m\u001b[43m,\u001b[49m\u001b[43m \u001b[49m\u001b[43mestudiantes_excelPath\u001b[49m\u001b[43m,\u001b[49m\u001b[43m \u001b[49m\u001b[43mprograma_principal\u001b[49m\u001b[43m)\u001b[49m\n\u001b[1;32m   1093\u001b[0m plot_n_cohortes(estudiantes_excelPath, n_dataframe, mean_n_hist, directory_name, programa_principal)\n",
      "File \u001b[0;32m/media/SSD7/jpuentes2/Dashboard_IBIO/final.py:538\u001b[0m, in \u001b[0;36mn_estudiantes\u001b[0;34m(xlsx_cursos, sancionados_xlsx, estudiantes_xlsx, desired_program)\u001b[0m\n\u001b[1;32m    536\u001b[0m \u001b[38;5;28;01mfor\u001b[39;00m sheet_name \u001b[38;5;129;01min\u001b[39;00m xlsx:\n\u001b[1;32m    537\u001b[0m     estudiantes \u001b[38;5;241m=\u001b[39m xlsx[sheet_name]\n\u001b[0;32m--> 538\u001b[0m     IBIO \u001b[38;5;241m=\u001b[39m \u001b[43mestudiantes\u001b[49m\u001b[43m[\u001b[49m\u001b[38;5;124;43m'\u001b[39;49m\u001b[38;5;124;43mPrograma principal\u001b[39;49m\u001b[38;5;124;43m'\u001b[39;49m\u001b[43m]\u001b[49m \u001b[38;5;241m==\u001b[39m \u001b[38;5;124m\"\u001b[39m\u001b[38;5;124mINGENIERIA BIOMEDICA\u001b[39m\u001b[38;5;124m\"\u001b[39m\n\u001b[1;32m    539\u001b[0m     estudiantes \u001b[38;5;241m=\u001b[39m estudiantes[IBIO]\u001b[38;5;241m.\u001b[39mreset_index()\n\u001b[1;32m    540\u001b[0m     periodos \u001b[38;5;241m=\u001b[39m np\u001b[38;5;241m.\u001b[39munique(estudiantes[\u001b[38;5;124m\"\u001b[39m\u001b[38;5;124mSemestreInicio\u001b[39m\u001b[38;5;124m\"\u001b[39m])\n",
      "File \u001b[0;32m~/anaconda3/envs/dashboard/lib/python3.13/site-packages/pandas/core/series.py:1121\u001b[0m, in \u001b[0;36mSeries.__getitem__\u001b[0;34m(self, key)\u001b[0m\n\u001b[1;32m   1118\u001b[0m     \u001b[38;5;28;01mreturn\u001b[39;00m \u001b[38;5;28mself\u001b[39m\u001b[38;5;241m.\u001b[39m_values[key]\n\u001b[1;32m   1120\u001b[0m \u001b[38;5;28;01melif\u001b[39;00m key_is_scalar:\n\u001b[0;32m-> 1121\u001b[0m     \u001b[38;5;28;01mreturn\u001b[39;00m \u001b[38;5;28;43mself\u001b[39;49m\u001b[38;5;241;43m.\u001b[39;49m\u001b[43m_get_value\u001b[49m\u001b[43m(\u001b[49m\u001b[43mkey\u001b[49m\u001b[43m)\u001b[49m\n\u001b[1;32m   1123\u001b[0m \u001b[38;5;66;03m# Convert generator to list before going through hashable part\u001b[39;00m\n\u001b[1;32m   1124\u001b[0m \u001b[38;5;66;03m# (We will iterate through the generator there to check for slices)\u001b[39;00m\n\u001b[1;32m   1125\u001b[0m \u001b[38;5;28;01mif\u001b[39;00m is_iterator(key):\n",
      "File \u001b[0;32m~/anaconda3/envs/dashboard/lib/python3.13/site-packages/pandas/core/series.py:1237\u001b[0m, in \u001b[0;36mSeries._get_value\u001b[0;34m(self, label, takeable)\u001b[0m\n\u001b[1;32m   1234\u001b[0m     \u001b[38;5;28;01mreturn\u001b[39;00m \u001b[38;5;28mself\u001b[39m\u001b[38;5;241m.\u001b[39m_values[label]\n\u001b[1;32m   1236\u001b[0m \u001b[38;5;66;03m# Similar to Index.get_value, but we do not fall back to positional\u001b[39;00m\n\u001b[0;32m-> 1237\u001b[0m loc \u001b[38;5;241m=\u001b[39m \u001b[38;5;28;43mself\u001b[39;49m\u001b[38;5;241;43m.\u001b[39;49m\u001b[43mindex\u001b[49m\u001b[38;5;241;43m.\u001b[39;49m\u001b[43mget_loc\u001b[49m\u001b[43m(\u001b[49m\u001b[43mlabel\u001b[49m\u001b[43m)\u001b[49m\n\u001b[1;32m   1239\u001b[0m \u001b[38;5;28;01mif\u001b[39;00m is_integer(loc):\n\u001b[1;32m   1240\u001b[0m     \u001b[38;5;28;01mreturn\u001b[39;00m \u001b[38;5;28mself\u001b[39m\u001b[38;5;241m.\u001b[39m_values[loc]\n",
      "File \u001b[0;32m~/anaconda3/envs/dashboard/lib/python3.13/site-packages/pandas/core/indexes/range.py:417\u001b[0m, in \u001b[0;36mRangeIndex.get_loc\u001b[0;34m(self, key)\u001b[0m\n\u001b[1;32m    415\u001b[0m         \u001b[38;5;28;01mraise\u001b[39;00m \u001b[38;5;167;01mKeyError\u001b[39;00m(key) \u001b[38;5;28;01mfrom\u001b[39;00m\u001b[38;5;250m \u001b[39m\u001b[38;5;21;01merr\u001b[39;00m\n\u001b[1;32m    416\u001b[0m \u001b[38;5;28;01mif\u001b[39;00m \u001b[38;5;28misinstance\u001b[39m(key, Hashable):\n\u001b[0;32m--> 417\u001b[0m     \u001b[38;5;28;01mraise\u001b[39;00m \u001b[38;5;167;01mKeyError\u001b[39;00m(key)\n\u001b[1;32m    418\u001b[0m \u001b[38;5;28mself\u001b[39m\u001b[38;5;241m.\u001b[39m_check_indexing_error(key)\n\u001b[1;32m    419\u001b[0m \u001b[38;5;28;01mraise\u001b[39;00m \u001b[38;5;167;01mKeyError\u001b[39;00m(key)\n",
      "\u001b[0;31mKeyError\u001b[0m: 'Programa principal'"
     ]
    }
   ],
   "source": [
    "from final import mainMaterias\n",
    "## En esta parte se calculan los piecharts por materia en cada periodo\n",
    "\n",
    "directory_name = f'RESULTS_{periodo_actual}/PieCharts_por_Materia' #Nombre de la carpeta donde queremos que se guarden los resultados\n",
    "mainMaterias(estudiantes_excelPath, programa_principal, directory_name)"
   ]
  },
  {
   "cell_type": "code",
   "execution_count": 14,
   "metadata": {},
   "outputs": [
    {
     "name": "stderr",
     "output_type": "stream",
     "text": [
      "Processing Periods: 100%|██████████| 15/15 [04:46<00:00, 19.13s/it]\n"
     ]
    }
   ],
   "source": [
    "from final import avance_cohortes\n",
    "## En esta parte se calculan los piecharts por cohorte en cada periodo\n",
    "\n",
    "directory_name = f\"RESULTS_{periodo_actual}/PieCharts_por_cohorte\"\n",
    "mean_dataframe, desv_dataframe, results, mean_sancionados, desv_sancionados, sancionados_dict = avance_cohortes(estudiantes_excelPath, sancionados_excelPath, programa_principal, directory_name)"
   ]
  },
  {
   "cell_type": "code",
   "execution_count": 16,
   "metadata": {},
   "outputs": [
    {
     "name": "stderr",
     "output_type": "stream",
     "text": [
      "Processing Periods: 100%|██████████| 15/15 [00:02<00:00,  6.94it/s]\n",
      "Processing Periods: 100%|██████████| 15/15 [00:02<00:00,  6.62it/s]\n",
      "Processing Periods: 100%|██████████| 15/15 [00:02<00:00,  6.99it/s]\n"
     ]
    }
   ],
   "source": [
    "from final import avance_cohortes, historico_cohortes, plot_historico_cohortes\n",
    "## Estadisticas historicas por semestre\n",
    "\n",
    "directory_name = f\"RESULTS_{periodo_actual}/Historico_cohortes\"\n",
    "mean_dataframe, desv_dataframe, results, mean_sancionados, desv_sancionados, sancionados_dict = avance_cohortes(estudiantes_excelPath, sancionados_excelPath, programa_principal)\n",
    "mean_avance_hist = historico_cohortes(estudiantes_excelPath, sancionados_excelPath, programa_principal)\n",
    "plot_historico_cohortes(estudiantes_excelPath, sancionados_excelPath, mean_dataframe, desv_dataframe, mean_avance_hist, directory_name, programa_principal)"
   ]
  },
  {
   "cell_type": "code",
   "execution_count": null,
   "metadata": {},
   "outputs": [
    {
     "ename": "ValueError",
     "evalue": "invalid literal for int() with base 10: 'Export'",
     "output_type": "error",
     "traceback": [
      "\u001b[0;31m---------------------------------------------------------------------------\u001b[0m",
      "\u001b[0;31mValueError\u001b[0m                                Traceback (most recent call last)",
      "Cell \u001b[0;32mIn[22], line 5\u001b[0m\n\u001b[1;32m      2\u001b[0m \u001b[38;5;66;03m## Graficas de N por cohortes\u001b[39;00m\n\u001b[1;32m      4\u001b[0m directory_name \u001b[38;5;241m=\u001b[39m \u001b[38;5;124mf\u001b[39m\u001b[38;5;124m\"\u001b[39m\u001b[38;5;124mRESULTS_\u001b[39m\u001b[38;5;132;01m{\u001b[39;00mperiodo_actual\u001b[38;5;132;01m}\u001b[39;00m\u001b[38;5;124m/N_cohortes\u001b[39m\u001b[38;5;124m\"\u001b[39m\n\u001b[0;32m----> 5\u001b[0m n_dataframe, mean_n_hist, n_sancionados \u001b[38;5;241m=\u001b[39m \u001b[43mn_estudiantes\u001b[49m\u001b[43m(\u001b[49m\u001b[43mestudiantes_excelPath\u001b[49m\u001b[43m,\u001b[49m\u001b[43m \u001b[49m\u001b[43msancionados_excelPath\u001b[49m\u001b[43m,\u001b[49m\u001b[43m \u001b[49m\u001b[43mestudiantes_excelPath\u001b[49m\u001b[43m,\u001b[49m\u001b[43m \u001b[49m\u001b[43mprograma_principal\u001b[49m\u001b[43m)\u001b[49m\n\u001b[1;32m      6\u001b[0m plot_n_cohortes(estudiantes_excelPath, n_dataframe, mean_n_hist, directory_name, programa_principal)\n",
      "File \u001b[0;32m/media/SSD7/jpuentes2/Dashboard_IBIO/final.py:534\u001b[0m, in \u001b[0;36mn_estudiantes\u001b[0;34m(xlsx_cursos, sancionados_xlsx, estudiantes_xlsx, desired_program)\u001b[0m\n\u001b[1;32m    532\u001b[0m estudiantes \u001b[38;5;241m=\u001b[39m xlsx_estudiantes[sheet_name]\n\u001b[1;32m    533\u001b[0m IBIO \u001b[38;5;241m=\u001b[39m estudiantes[\u001b[38;5;124m'\u001b[39m\u001b[38;5;124mPrograma principal\u001b[39m\u001b[38;5;124m'\u001b[39m] \u001b[38;5;241m==\u001b[39m \u001b[38;5;124m\"\u001b[39m\u001b[38;5;124mINGENIERIA BIOMEDICA\u001b[39m\u001b[38;5;124m\"\u001b[39m\n\u001b[0;32m--> 534\u001b[0m estudiantes \u001b[38;5;241m=\u001b[39m estudiantes[IBIO]\u001b[38;5;241m.\u001b[39mreset_index()\n\u001b[1;32m    535\u001b[0m periodos \u001b[38;5;241m=\u001b[39m np\u001b[38;5;241m.\u001b[39munique(estudiantes[\u001b[38;5;124m\"\u001b[39m\u001b[38;5;124mSemestreInicio\u001b[39m\u001b[38;5;124m\"\u001b[39m])\n\u001b[1;32m    536\u001b[0m \u001b[38;5;28;01mfor\u001b[39;00m i \u001b[38;5;129;01min\u001b[39;00m periodos:\n",
      "\u001b[0;31mValueError\u001b[0m: invalid literal for int() with base 10: 'Export'"
     ]
    }
   ],
   "source": [
    "from final import n_estudiantes, plot_n_cohortes\n",
    "## Graficas de N por cohortes\n",
    "\n",
    "directory_name = f\"RESULTS_{periodo_actual}/N_cohortes\"\n",
    "n_dataframe, mean_n_hist, n_sancionados = n_estudiantes(estudiantes_excelPath, sancionados_excelPath, estudiantes_excelPath, programa_principal)\n",
    "plot_n_cohortes(estudiantes_excelPath, n_dataframe, mean_n_hist, directory_name, programa_principal)"
   ]
  },
  {
   "cell_type": "markdown",
   "metadata": {},
   "source": []
  },
  {
   "cell_type": "code",
   "execution_count": 18,
   "metadata": {},
   "outputs": [
    {
     "name": "stderr",
     "output_type": "stream",
     "text": [
      "Graphics Creating: 100%|██████████| 13/13 [00:02<00:00,  6.29it/s]\n"
     ]
    }
   ],
   "source": [
    "from final import avanceNivel\n",
    "# Estadisticas de retiros & aprobados por materia IBIO\n",
    "## En esta parte se calculan los piecharts por materia en cada periodo\n",
    "\n",
    "directory_name = f'RESULTS_{periodo_actual}/Resultados_por_Materia'\n",
    "avanceNivel(estudiantes_excelPath, programa_principal, directory_name)"
   ]
  },
  {
   "cell_type": "code",
   "execution_count": 19,
   "metadata": {},
   "outputs": [
    {
     "name": "stderr",
     "output_type": "stream",
     "text": [
      "/home/jpuentes/anaconda3/envs/dashboard/lib/python3.13/site-packages/openpyxl/styles/stylesheet.py:237: UserWarning: Workbook contains no default style, apply openpyxl's default\n",
      "  warn(\"Workbook contains no default style, apply openpyxl's default\")\n",
      "/media/SSD7/jpuentes2/Dashboard_IBIO/final.py:224: SettingWithCopyWarning: \n",
      "A value is trying to be set on a copy of a slice from a DataFrame.\n",
      "Try using .loc[row_indexer,col_indexer] = value instead\n",
      "\n",
      "See the caveats in the documentation: https://pandas.pydata.org/pandas-docs/stable/user_guide/indexing.html#returning-a-view-versus-a-copy\n",
      "  retiros_count[materia][periodo[:5]] = count\n",
      "/media/SSD7/jpuentes2/Dashboard_IBIO/final.py:224: SettingWithCopyWarning: \n",
      "A value is trying to be set on a copy of a slice from a DataFrame.\n",
      "Try using .loc[row_indexer,col_indexer] = value instead\n",
      "\n",
      "See the caveats in the documentation: https://pandas.pydata.org/pandas-docs/stable/user_guide/indexing.html#returning-a-view-versus-a-copy\n",
      "  retiros_count[materia][periodo[:5]] = count\n",
      "/media/SSD7/jpuentes2/Dashboard_IBIO/final.py:224: SettingWithCopyWarning: \n",
      "A value is trying to be set on a copy of a slice from a DataFrame.\n",
      "Try using .loc[row_indexer,col_indexer] = value instead\n",
      "\n",
      "See the caveats in the documentation: https://pandas.pydata.org/pandas-docs/stable/user_guide/indexing.html#returning-a-view-versus-a-copy\n",
      "  retiros_count[materia][periodo[:5]] = count\n",
      "/media/SSD7/jpuentes2/Dashboard_IBIO/final.py:224: SettingWithCopyWarning: \n",
      "A value is trying to be set on a copy of a slice from a DataFrame.\n",
      "Try using .loc[row_indexer,col_indexer] = value instead\n",
      "\n",
      "See the caveats in the documentation: https://pandas.pydata.org/pandas-docs/stable/user_guide/indexing.html#returning-a-view-versus-a-copy\n",
      "  retiros_count[materia][periodo[:5]] = count\n",
      "/media/SSD7/jpuentes2/Dashboard_IBIO/final.py:224: SettingWithCopyWarning: \n",
      "A value is trying to be set on a copy of a slice from a DataFrame.\n",
      "Try using .loc[row_indexer,col_indexer] = value instead\n",
      "\n",
      "See the caveats in the documentation: https://pandas.pydata.org/pandas-docs/stable/user_guide/indexing.html#returning-a-view-versus-a-copy\n",
      "  retiros_count[materia][periodo[:5]] = count\n",
      "/media/SSD7/jpuentes2/Dashboard_IBIO/final.py:224: SettingWithCopyWarning: \n",
      "A value is trying to be set on a copy of a slice from a DataFrame.\n",
      "Try using .loc[row_indexer,col_indexer] = value instead\n",
      "\n",
      "See the caveats in the documentation: https://pandas.pydata.org/pandas-docs/stable/user_guide/indexing.html#returning-a-view-versus-a-copy\n",
      "  retiros_count[materia][periodo[:5]] = count\n",
      "/media/SSD7/jpuentes2/Dashboard_IBIO/final.py:224: SettingWithCopyWarning: \n",
      "A value is trying to be set on a copy of a slice from a DataFrame.\n",
      "Try using .loc[row_indexer,col_indexer] = value instead\n",
      "\n",
      "See the caveats in the documentation: https://pandas.pydata.org/pandas-docs/stable/user_guide/indexing.html#returning-a-view-versus-a-copy\n",
      "  retiros_count[materia][periodo[:5]] = count\n",
      "/media/SSD7/jpuentes2/Dashboard_IBIO/final.py:224: SettingWithCopyWarning: \n",
      "A value is trying to be set on a copy of a slice from a DataFrame.\n",
      "Try using .loc[row_indexer,col_indexer] = value instead\n",
      "\n",
      "See the caveats in the documentation: https://pandas.pydata.org/pandas-docs/stable/user_guide/indexing.html#returning-a-view-versus-a-copy\n",
      "  retiros_count[materia][periodo[:5]] = count\n",
      "/media/SSD7/jpuentes2/Dashboard_IBIO/final.py:224: SettingWithCopyWarning: \n",
      "A value is trying to be set on a copy of a slice from a DataFrame.\n",
      "Try using .loc[row_indexer,col_indexer] = value instead\n",
      "\n",
      "See the caveats in the documentation: https://pandas.pydata.org/pandas-docs/stable/user_guide/indexing.html#returning-a-view-versus-a-copy\n",
      "  retiros_count[materia][periodo[:5]] = count\n",
      "/media/SSD7/jpuentes2/Dashboard_IBIO/final.py:224: SettingWithCopyWarning: \n",
      "A value is trying to be set on a copy of a slice from a DataFrame.\n",
      "Try using .loc[row_indexer,col_indexer] = value instead\n",
      "\n",
      "See the caveats in the documentation: https://pandas.pydata.org/pandas-docs/stable/user_guide/indexing.html#returning-a-view-versus-a-copy\n",
      "  retiros_count[materia][periodo[:5]] = count\n",
      "/media/SSD7/jpuentes2/Dashboard_IBIO/final.py:224: SettingWithCopyWarning: \n",
      "A value is trying to be set on a copy of a slice from a DataFrame.\n",
      "Try using .loc[row_indexer,col_indexer] = value instead\n",
      "\n",
      "See the caveats in the documentation: https://pandas.pydata.org/pandas-docs/stable/user_guide/indexing.html#returning-a-view-versus-a-copy\n",
      "  retiros_count[materia][periodo[:5]] = count\n",
      "/media/SSD7/jpuentes2/Dashboard_IBIO/final.py:224: SettingWithCopyWarning: \n",
      "A value is trying to be set on a copy of a slice from a DataFrame.\n",
      "Try using .loc[row_indexer,col_indexer] = value instead\n",
      "\n",
      "See the caveats in the documentation: https://pandas.pydata.org/pandas-docs/stable/user_guide/indexing.html#returning-a-view-versus-a-copy\n",
      "  retiros_count[materia][periodo[:5]] = count\n"
     ]
    },
    {
     "ename": "ValueError",
     "evalue": "shape mismatch: objects cannot be broadcast to a single shape.  Mismatch is between arg 0 with shape (3,) and arg 1 with shape (14,).",
     "output_type": "error",
     "traceback": [
      "\u001b[0;31m---------------------------------------------------------------------------\u001b[0m",
      "\u001b[0;31mValueError\u001b[0m                                Traceback (most recent call last)",
      "Cell \u001b[0;32mIn[19], line 6\u001b[0m\n\u001b[1;32m      2\u001b[0m \u001b[38;5;66;03m# Estadisticas de retiros & aprobados por materia IBIO\u001b[39;00m\n\u001b[1;32m      3\u001b[0m \u001b[38;5;66;03m## En esta parte se calculan los piecharts por materia en cada periodo\u001b[39;00m\n\u001b[1;32m      5\u001b[0m directory_name \u001b[38;5;241m=\u001b[39m \u001b[38;5;124mf\u001b[39m\u001b[38;5;124m'\u001b[39m\u001b[38;5;124mRESULTS_\u001b[39m\u001b[38;5;132;01m{\u001b[39;00mperiodo_actual\u001b[38;5;132;01m}\u001b[39;00m\u001b[38;5;124m/Resultados_por_Materia\u001b[39m\u001b[38;5;124m'\u001b[39m\n\u001b[0;32m----> 6\u001b[0m \u001b[43mRetiros\u001b[49m\u001b[43m \u001b[49m\u001b[43m(\u001b[49m\u001b[43mpath_retiros\u001b[49m\u001b[43m,\u001b[49m\u001b[43m \u001b[49m\u001b[43mestudiantes_excelPath\u001b[49m\u001b[43m,\u001b[49m\u001b[43m \u001b[49m\u001b[43mprograma_principal\u001b[49m\u001b[43m,\u001b[49m\u001b[43m \u001b[49m\u001b[43mdirectory_name\u001b[49m\u001b[43m)\u001b[49m\n",
      "File \u001b[0;32m/media/SSD7/jpuentes2/Dashboard_IBIO/final.py:270\u001b[0m, in \u001b[0;36mRetiros\u001b[0;34m(path, original_path, desired_program, directory_name)\u001b[0m\n\u001b[1;32m    267\u001b[0m \u001b[38;5;66;03m## Retiros promedio\u001b[39;00m\n\u001b[1;32m    269\u001b[0m accumulated_retiros \u001b[38;5;241m=\u001b[39m {}\n\u001b[0;32m--> 270\u001b[0m accumulated_estudiantes \u001b[38;5;241m=\u001b[39m {}\n\u001b[1;32m    271\u001b[0m accumulated_avance \u001b[38;5;241m=\u001b[39m {}\n\u001b[1;32m    274\u001b[0m \u001b[38;5;66;03m# loop over each iteration's dictionary\u001b[39;00m\n",
      "File \u001b[0;32m/media/SSD7/jpuentes2/Dashboard_IBIO/utils2.py:197\u001b[0m, in \u001b[0;36mretirosPorMateria\u001b[0;34m(pensum_courses, results_dict, medias_niveles, retiros_count, max_n, media_min, media_max, cursos, directory_name, todosPeriodos)\u001b[0m\n\u001b[1;32m    194\u001b[0m     list_dict_retiros\u001b[38;5;241m.\u001b[39mappend(retirosMateria)\n\u001b[1;32m    195\u001b[0m     list_dict_estudiantes\u001b[38;5;241m.\u001b[39mappend(my_dict_estudiantes)\n\u001b[0;32m--> 197\u001b[0m     \u001b[43mretiros_plot\u001b[49m\u001b[43m(\u001b[49m\u001b[43my\u001b[49m\u001b[43m,\u001b[49m\u001b[43m \u001b[49m\u001b[43mx_list\u001b[49m\u001b[43m,\u001b[49m\u001b[43m \u001b[49m\u001b[43mn_est\u001b[49m\u001b[43m,\u001b[49m\u001b[43m \u001b[49m\u001b[43mresult_list_retiros\u001b[49m\u001b[43m,\u001b[49m\u001b[43m \u001b[49m\u001b[43mmax_n\u001b[49m\u001b[43m,\u001b[49m\u001b[43m \u001b[49m\u001b[43mpensum_courses\u001b[49m\u001b[43m,\u001b[49m\u001b[43m \u001b[49m\u001b[43mx_nivel\u001b[49m\u001b[43m,\u001b[49m\u001b[43m \u001b[49m\u001b[43my_nivel\u001b[49m\u001b[43m,\u001b[49m\u001b[43m \u001b[49m\u001b[43mnivel_materia\u001b[49m\u001b[43m,\u001b[49m\u001b[43m \u001b[49m\u001b[43mmedia_min\u001b[49m\u001b[43m,\u001b[49m\u001b[43m \u001b[49m\u001b[43mmedia_max\u001b[49m\u001b[43m,\u001b[49m\u001b[43m \u001b[49m\u001b[43mcursos\u001b[49m\u001b[43m,\u001b[49m\u001b[43m \u001b[49m\u001b[43mi\u001b[49m\u001b[43m,\u001b[49m\u001b[43m \u001b[49m\u001b[43mdirectory_name\u001b[49m\u001b[43m)\u001b[49m\n\u001b[1;32m    198\u001b[0m     retiros_plot_resumido (y, x_list, n_est, result_list_retiros, max_n, pensum_courses, x_nivel, y_nivel, nivel_materia, media_min, media_max, cursos, i, directory_name)\n\u001b[1;32m    200\u001b[0m \u001b[38;5;28;01mreturn\u001b[39;00m list_dict_retiros, list_dict_estudiantes, list_dict_avance\n",
      "File \u001b[0;32m/media/SSD7/jpuentes2/Dashboard_IBIO/plots.py:99\u001b[0m, in \u001b[0;36mretiros_plot\u001b[0;34m(y, x_list, n_est, result_list_retiros, max_n, pensum_courses, x_nivel, y_nivel, nivel_materia, media_min, media_max, cursos, i, directory_name)\u001b[0m\n\u001b[1;32m     97\u001b[0m ax1\u001b[38;5;241m.\u001b[39mbar([i \u001b[38;5;241m-\u001b[39m \u001b[38;5;241m0.2\u001b[39m  \u001b[38;5;28;01mfor\u001b[39;00m i \u001b[38;5;129;01min\u001b[39;00m x_pos], n_est, color\u001b[38;5;241m=\u001b[39m\u001b[38;5;124m\"\u001b[39m\u001b[38;5;124mmediumaquamarine\u001b[39m\u001b[38;5;124m\"\u001b[39m, width\u001b[38;5;241m=\u001b[39m\u001b[38;5;241m0.38\u001b[39m, label\u001b[38;5;241m=\u001b[39m\u001b[38;5;124m'\u001b[39m\u001b[38;5;124mAprobados\u001b[39m\u001b[38;5;124m'\u001b[39m)\n\u001b[1;32m     98\u001b[0m ax1\u001b[38;5;241m.\u001b[39mbar([i \u001b[38;5;241m+\u001b[39m \u001b[38;5;241m0.2\u001b[39m  \u001b[38;5;28;01mfor\u001b[39;00m i \u001b[38;5;129;01min\u001b[39;00m x_pos], result_total, color\u001b[38;5;241m=\u001b[39m\u001b[38;5;124m\"\u001b[39m\u001b[38;5;124mcornflowerblue\u001b[39m\u001b[38;5;124m\"\u001b[39m, width\u001b[38;5;241m=\u001b[39m\u001b[38;5;241m0.38\u001b[39m, label\u001b[38;5;241m=\u001b[39m\u001b[38;5;124m'\u001b[39m\u001b[38;5;124mEstudiantes totales\u001b[39m\u001b[38;5;124m'\u001b[39m)\n\u001b[0;32m---> 99\u001b[0m \u001b[43max1\u001b[49m\u001b[38;5;241;43m.\u001b[39;49m\u001b[43mbar\u001b[49m\u001b[43m(\u001b[49m\u001b[43m[\u001b[49m\u001b[43mi\u001b[49m\u001b[43m \u001b[49m\u001b[38;5;241;43m+\u001b[39;49m\u001b[43m \u001b[49m\u001b[38;5;241;43m0.2\u001b[39;49m\u001b[43m \u001b[49m\u001b[38;5;28;43;01mfor\u001b[39;49;00m\u001b[43m \u001b[49m\u001b[43mi\u001b[49m\u001b[43m \u001b[49m\u001b[38;5;129;43;01min\u001b[39;49;00m\u001b[43m \u001b[49m\u001b[43mx_pos\u001b[49m\u001b[43m]\u001b[49m\u001b[43m,\u001b[49m\u001b[43m \u001b[49m\u001b[43mresult_list_retiros\u001b[49m\u001b[43m,\u001b[49m\u001b[43m \u001b[49m\u001b[43mcolor\u001b[49m\u001b[38;5;241;43m=\u001b[39;49m\u001b[38;5;124;43m\"\u001b[39;49m\u001b[38;5;124;43msalmon\u001b[39;49m\u001b[38;5;124;43m\"\u001b[39;49m\u001b[43m,\u001b[49m\u001b[43m \u001b[49m\u001b[43mwidth\u001b[49m\u001b[38;5;241;43m=\u001b[39;49m\u001b[38;5;241;43m0.38\u001b[39;49m\u001b[43m,\u001b[49m\u001b[43m \u001b[49m\u001b[43mlabel\u001b[49m\u001b[38;5;241;43m=\u001b[39;49m\u001b[38;5;124;43m'\u001b[39;49m\u001b[38;5;124;43mRetiros\u001b[39;49m\u001b[38;5;124;43m'\u001b[39;49m\u001b[43m)\u001b[49m\n\u001b[1;32m    100\u001b[0m ax1\u001b[38;5;241m.\u001b[39mlegend(loc\u001b[38;5;241m=\u001b[39m\u001b[38;5;124m'\u001b[39m\u001b[38;5;124mupper center\u001b[39m\u001b[38;5;124m'\u001b[39m, bbox_to_anchor\u001b[38;5;241m=\u001b[39m(\u001b[38;5;241m0.5\u001b[39m, \u001b[38;5;241m-\u001b[39m\u001b[38;5;241m0.1\u001b[39m),\n\u001b[1;32m    101\u001b[0m         fancybox\u001b[38;5;241m=\u001b[39m\u001b[38;5;28;01mTrue\u001b[39;00m, shadow\u001b[38;5;241m=\u001b[39m\u001b[38;5;28;01mTrue\u001b[39;00m, ncol\u001b[38;5;241m=\u001b[39m\u001b[38;5;241m5\u001b[39m)\n\u001b[1;32m    102\u001b[0m \u001b[38;5;66;03m#plt.xticks(x_list)\u001b[39;00m\n",
      "File \u001b[0;32m~/anaconda3/envs/dashboard/lib/python3.13/site-packages/matplotlib/__init__.py:1521\u001b[0m, in \u001b[0;36m_preprocess_data.<locals>.inner\u001b[0;34m(ax, data, *args, **kwargs)\u001b[0m\n\u001b[1;32m   1518\u001b[0m \u001b[38;5;129m@functools\u001b[39m\u001b[38;5;241m.\u001b[39mwraps(func)\n\u001b[1;32m   1519\u001b[0m \u001b[38;5;28;01mdef\u001b[39;00m\u001b[38;5;250m \u001b[39m\u001b[38;5;21minner\u001b[39m(ax, \u001b[38;5;241m*\u001b[39margs, data\u001b[38;5;241m=\u001b[39m\u001b[38;5;28;01mNone\u001b[39;00m, \u001b[38;5;241m*\u001b[39m\u001b[38;5;241m*\u001b[39mkwargs):\n\u001b[1;32m   1520\u001b[0m     \u001b[38;5;28;01mif\u001b[39;00m data \u001b[38;5;129;01mis\u001b[39;00m \u001b[38;5;28;01mNone\u001b[39;00m:\n\u001b[0;32m-> 1521\u001b[0m         \u001b[38;5;28;01mreturn\u001b[39;00m \u001b[43mfunc\u001b[49m\u001b[43m(\u001b[49m\n\u001b[1;32m   1522\u001b[0m \u001b[43m            \u001b[49m\u001b[43max\u001b[49m\u001b[43m,\u001b[49m\n\u001b[1;32m   1523\u001b[0m \u001b[43m            \u001b[49m\u001b[38;5;241;43m*\u001b[39;49m\u001b[38;5;28;43mmap\u001b[39;49m\u001b[43m(\u001b[49m\u001b[43mcbook\u001b[49m\u001b[38;5;241;43m.\u001b[39;49m\u001b[43msanitize_sequence\u001b[49m\u001b[43m,\u001b[49m\u001b[43m \u001b[49m\u001b[43margs\u001b[49m\u001b[43m)\u001b[49m\u001b[43m,\u001b[49m\n\u001b[1;32m   1524\u001b[0m \u001b[43m            \u001b[49m\u001b[38;5;241;43m*\u001b[39;49m\u001b[38;5;241;43m*\u001b[39;49m\u001b[43m{\u001b[49m\u001b[43mk\u001b[49m\u001b[43m:\u001b[49m\u001b[43m \u001b[49m\u001b[43mcbook\u001b[49m\u001b[38;5;241;43m.\u001b[39;49m\u001b[43msanitize_sequence\u001b[49m\u001b[43m(\u001b[49m\u001b[43mv\u001b[49m\u001b[43m)\u001b[49m\u001b[43m \u001b[49m\u001b[38;5;28;43;01mfor\u001b[39;49;00m\u001b[43m \u001b[49m\u001b[43mk\u001b[49m\u001b[43m,\u001b[49m\u001b[43m \u001b[49m\u001b[43mv\u001b[49m\u001b[43m \u001b[49m\u001b[38;5;129;43;01min\u001b[39;49;00m\u001b[43m \u001b[49m\u001b[43mkwargs\u001b[49m\u001b[38;5;241;43m.\u001b[39;49m\u001b[43mitems\u001b[49m\u001b[43m(\u001b[49m\u001b[43m)\u001b[49m\u001b[43m}\u001b[49m\u001b[43m)\u001b[49m\n\u001b[1;32m   1526\u001b[0m     bound \u001b[38;5;241m=\u001b[39m new_sig\u001b[38;5;241m.\u001b[39mbind(ax, \u001b[38;5;241m*\u001b[39margs, \u001b[38;5;241m*\u001b[39m\u001b[38;5;241m*\u001b[39mkwargs)\n\u001b[1;32m   1527\u001b[0m     auto_label \u001b[38;5;241m=\u001b[39m (bound\u001b[38;5;241m.\u001b[39marguments\u001b[38;5;241m.\u001b[39mget(label_namer)\n\u001b[1;32m   1528\u001b[0m                   \u001b[38;5;129;01mor\u001b[39;00m bound\u001b[38;5;241m.\u001b[39mkwargs\u001b[38;5;241m.\u001b[39mget(label_namer))\n",
      "File \u001b[0;32m~/anaconda3/envs/dashboard/lib/python3.13/site-packages/matplotlib/axes/_axes.py:2572\u001b[0m, in \u001b[0;36mAxes.bar\u001b[0;34m(self, x, height, width, bottom, align, **kwargs)\u001b[0m\n\u001b[1;32m   2569\u001b[0m     \u001b[38;5;28;01mif\u001b[39;00m yerr \u001b[38;5;129;01mis\u001b[39;00m \u001b[38;5;129;01mnot\u001b[39;00m \u001b[38;5;28;01mNone\u001b[39;00m:\n\u001b[1;32m   2570\u001b[0m         yerr \u001b[38;5;241m=\u001b[39m \u001b[38;5;28mself\u001b[39m\u001b[38;5;241m.\u001b[39m_convert_dx(yerr, y0, y, \u001b[38;5;28mself\u001b[39m\u001b[38;5;241m.\u001b[39mconvert_yunits)\n\u001b[0;32m-> 2572\u001b[0m x, height, width, y, linewidth, hatch \u001b[38;5;241m=\u001b[39m \u001b[43mnp\u001b[49m\u001b[38;5;241;43m.\u001b[39;49m\u001b[43mbroadcast_arrays\u001b[49m\u001b[43m(\u001b[49m\n\u001b[1;32m   2573\u001b[0m \u001b[43m    \u001b[49m\u001b[38;5;66;43;03m# Make args iterable too.\u001b[39;49;00m\n\u001b[1;32m   2574\u001b[0m \u001b[43m    \u001b[49m\u001b[43mnp\u001b[49m\u001b[38;5;241;43m.\u001b[39;49m\u001b[43matleast_1d\u001b[49m\u001b[43m(\u001b[49m\u001b[43mx\u001b[49m\u001b[43m)\u001b[49m\u001b[43m,\u001b[49m\u001b[43m \u001b[49m\u001b[43mheight\u001b[49m\u001b[43m,\u001b[49m\u001b[43m \u001b[49m\u001b[43mwidth\u001b[49m\u001b[43m,\u001b[49m\u001b[43m \u001b[49m\u001b[43my\u001b[49m\u001b[43m,\u001b[49m\u001b[43m \u001b[49m\u001b[43mlinewidth\u001b[49m\u001b[43m,\u001b[49m\u001b[43m \u001b[49m\u001b[43mhatch\u001b[49m\u001b[43m)\u001b[49m\n\u001b[1;32m   2576\u001b[0m \u001b[38;5;66;03m# Now that units have been converted, set the tick locations.\u001b[39;00m\n\u001b[1;32m   2577\u001b[0m \u001b[38;5;28;01mif\u001b[39;00m orientation \u001b[38;5;241m==\u001b[39m \u001b[38;5;124m'\u001b[39m\u001b[38;5;124mvertical\u001b[39m\u001b[38;5;124m'\u001b[39m:\n",
      "File \u001b[0;32m~/anaconda3/envs/dashboard/lib/python3.13/site-packages/numpy/lib/_stride_tricks_impl.py:544\u001b[0m, in \u001b[0;36mbroadcast_arrays\u001b[0;34m(subok, *args)\u001b[0m\n\u001b[1;32m    537\u001b[0m \u001b[38;5;66;03m# nditer is not used here to avoid the limit of 32 arrays.\u001b[39;00m\n\u001b[1;32m    538\u001b[0m \u001b[38;5;66;03m# Otherwise, something like the following one-liner would suffice:\u001b[39;00m\n\u001b[1;32m    539\u001b[0m \u001b[38;5;66;03m# return np.nditer(args, flags=['multi_index', 'zerosize_ok'],\u001b[39;00m\n\u001b[1;32m    540\u001b[0m \u001b[38;5;66;03m#                  order='C').itviews\u001b[39;00m\n\u001b[1;32m    542\u001b[0m args \u001b[38;5;241m=\u001b[39m [np\u001b[38;5;241m.\u001b[39marray(_m, copy\u001b[38;5;241m=\u001b[39m\u001b[38;5;28;01mNone\u001b[39;00m, subok\u001b[38;5;241m=\u001b[39msubok) \u001b[38;5;28;01mfor\u001b[39;00m _m \u001b[38;5;129;01min\u001b[39;00m args]\n\u001b[0;32m--> 544\u001b[0m shape \u001b[38;5;241m=\u001b[39m \u001b[43m_broadcast_shape\u001b[49m\u001b[43m(\u001b[49m\u001b[38;5;241;43m*\u001b[39;49m\u001b[43margs\u001b[49m\u001b[43m)\u001b[49m\n\u001b[1;32m    546\u001b[0m result \u001b[38;5;241m=\u001b[39m [array \u001b[38;5;28;01mif\u001b[39;00m array\u001b[38;5;241m.\u001b[39mshape \u001b[38;5;241m==\u001b[39m shape\n\u001b[1;32m    547\u001b[0m           \u001b[38;5;28;01melse\u001b[39;00m _broadcast_to(array, shape, subok\u001b[38;5;241m=\u001b[39msubok, readonly\u001b[38;5;241m=\u001b[39m\u001b[38;5;28;01mFalse\u001b[39;00m)\n\u001b[1;32m    548\u001b[0m                           \u001b[38;5;28;01mfor\u001b[39;00m array \u001b[38;5;129;01min\u001b[39;00m args]\n\u001b[1;32m    549\u001b[0m \u001b[38;5;28;01mreturn\u001b[39;00m \u001b[38;5;28mtuple\u001b[39m(result)\n",
      "File \u001b[0;32m~/anaconda3/envs/dashboard/lib/python3.13/site-packages/numpy/lib/_stride_tricks_impl.py:419\u001b[0m, in \u001b[0;36m_broadcast_shape\u001b[0;34m(*args)\u001b[0m\n\u001b[1;32m    414\u001b[0m \u001b[38;5;250m\u001b[39m\u001b[38;5;124;03m\"\"\"Returns the shape of the arrays that would result from broadcasting the\u001b[39;00m\n\u001b[1;32m    415\u001b[0m \u001b[38;5;124;03msupplied arrays against each other.\u001b[39;00m\n\u001b[1;32m    416\u001b[0m \u001b[38;5;124;03m\"\"\"\u001b[39;00m\n\u001b[1;32m    417\u001b[0m \u001b[38;5;66;03m# use the old-iterator because np.nditer does not handle size 0 arrays\u001b[39;00m\n\u001b[1;32m    418\u001b[0m \u001b[38;5;66;03m# consistently\u001b[39;00m\n\u001b[0;32m--> 419\u001b[0m b \u001b[38;5;241m=\u001b[39m \u001b[43mnp\u001b[49m\u001b[38;5;241;43m.\u001b[39;49m\u001b[43mbroadcast\u001b[49m\u001b[43m(\u001b[49m\u001b[38;5;241;43m*\u001b[39;49m\u001b[43margs\u001b[49m\u001b[43m[\u001b[49m\u001b[43m:\u001b[49m\u001b[38;5;241;43m32\u001b[39;49m\u001b[43m]\u001b[49m\u001b[43m)\u001b[49m\n\u001b[1;32m    420\u001b[0m \u001b[38;5;66;03m# unfortunately, it cannot handle 32 or more arguments directly\u001b[39;00m\n\u001b[1;32m    421\u001b[0m \u001b[38;5;28;01mfor\u001b[39;00m pos \u001b[38;5;129;01min\u001b[39;00m \u001b[38;5;28mrange\u001b[39m(\u001b[38;5;241m32\u001b[39m, \u001b[38;5;28mlen\u001b[39m(args), \u001b[38;5;241m31\u001b[39m):\n\u001b[1;32m    422\u001b[0m     \u001b[38;5;66;03m# ironically, np.broadcast does not properly handle np.broadcast\u001b[39;00m\n\u001b[1;32m    423\u001b[0m     \u001b[38;5;66;03m# objects (it treats them as scalars)\u001b[39;00m\n\u001b[1;32m    424\u001b[0m     \u001b[38;5;66;03m# use broadcasting to avoid allocating the full array\u001b[39;00m\n",
      "\u001b[0;31mValueError\u001b[0m: shape mismatch: objects cannot be broadcast to a single shape.  Mismatch is between arg 0 with shape (3,) and arg 1 with shape (14,)."
     ]
    },
    {
     "data": {
      "image/png": "[encoded data removed]",
      "text/plain": [
       "<Figure size 1200x800 with 1 Axes>"
      ]
     },
     "metadata": {},
     "output_type": "display_data"
    }
   ],
   "source": [
    "from final import Retiros\n",
    "# Estadisticas de retiros & aprobados por materia IBIO\n",
    "## En esta parte se calculan los piecharts por materia en cada periodo\n",
    "\n",
    "directory_name = f'RESULTS_{periodo_actual}/Resultados_por_Materia'\n",
    "Retiros (path_retiros, estudiantes_excelPath, programa_principal, directory_name)"
   ]
  },
  {
   "cell_type": "code",
   "execution_count": 20,
   "metadata": {},
   "outputs": [
    {
     "name": "stderr",
     "output_type": "stream",
     "text": [
      "Processing Periods: 100%|██████████| 15/15 [00:02<00:00,  6.59it/s]\n",
      "Processing Periods: 100%|██████████| 15/15 [00:02<00:00,  6.86it/s]\n"
     ]
    }
   ],
   "source": [
    "from final import sancionados\n",
    "## Estadísticas sancionados\n",
    "\n",
    "directory_name = f\"RESULTS_{periodo_actual}/Sancionados\"\n",
    "sancionados(estudiantes_excelPath, directory_name, programa_principal, sancionados_excelPath)"
   ]
  },
  {
   "cell_type": "code",
   "execution_count": 21,
   "metadata": {},
   "outputs": [
    {
     "name": "stderr",
     "output_type": "stream",
     "text": [
      "Processing Periods: 100%|██████████| 15/15 [00:02<00:00,  6.46it/s]\n"
     ]
    },
    {
     "ename": "ValueError",
     "evalue": "invalid literal for int() with base 10: 'Export'",
     "output_type": "error",
     "traceback": [
      "\u001b[0;31m---------------------------------------------------------------------------\u001b[0m",
      "\u001b[0;31mValueError\u001b[0m                                Traceback (most recent call last)",
      "Cell \u001b[0;32mIn[21], line 6\u001b[0m\n\u001b[1;32m      4\u001b[0m directory_name \u001b[38;5;241m=\u001b[39m \u001b[38;5;124mf\u001b[39m\u001b[38;5;124m\"\u001b[39m\u001b[38;5;124mRESULTS_\u001b[39m\u001b[38;5;132;01m{\u001b[39;00mperiodo_actual\u001b[38;5;132;01m}\u001b[39;00m\u001b[38;5;124m/Graficas_Generales\u001b[39m\u001b[38;5;124m\"\u001b[39m\n\u001b[1;32m      5\u001b[0m mean_avance_hist \u001b[38;5;241m=\u001b[39m historico_cohortes(estudiantes_excelPath, sancionados_excelPath, programa_principal)\n\u001b[0;32m----> 6\u001b[0m n_dataframe, mean_n_hist, n_sancionados \u001b[38;5;241m=\u001b[39m \u001b[43mn_estudiantes\u001b[49m\u001b[43m(\u001b[49m\u001b[43mestudiantes_excelPath\u001b[49m\u001b[43m,\u001b[49m\u001b[43m \u001b[49m\u001b[43msancionados_excelPath\u001b[49m\u001b[43m,\u001b[49m\u001b[43m \u001b[49m\u001b[43mestudiantes_excelPath\u001b[49m\u001b[43m,\u001b[49m\u001b[43m \u001b[49m\u001b[43mprograma_principal\u001b[49m\u001b[43m)\u001b[49m\n\u001b[1;32m      8\u001b[0m general_plots(estudiantes_excelPath, mean_avance_hist, mean_n_hist, directory_name)\n\u001b[1;32m      9\u001b[0m estudiantesUnicosPorPeriodo(estudiantes_excelPath, programa_principal, directory_name)\n",
      "File \u001b[0;32m/media/SSD7/jpuentes2/Dashboard_IBIO/final.py:534\u001b[0m, in \u001b[0;36mn_estudiantes\u001b[0;34m(xlsx_cursos, sancionados_xlsx, estudiantes_xlsx, desired_program)\u001b[0m\n\u001b[1;32m    532\u001b[0m estudiantes \u001b[38;5;241m=\u001b[39m xlsx_estudiantes[sheet_name]\n\u001b[1;32m    533\u001b[0m IBIO \u001b[38;5;241m=\u001b[39m estudiantes[\u001b[38;5;124m'\u001b[39m\u001b[38;5;124mPrograma principal\u001b[39m\u001b[38;5;124m'\u001b[39m] \u001b[38;5;241m==\u001b[39m \u001b[38;5;124m\"\u001b[39m\u001b[38;5;124mINGENIERIA BIOMEDICA\u001b[39m\u001b[38;5;124m\"\u001b[39m\n\u001b[0;32m--> 534\u001b[0m estudiantes \u001b[38;5;241m=\u001b[39m estudiantes[IBIO]\u001b[38;5;241m.\u001b[39mreset_index()\n\u001b[1;32m    535\u001b[0m periodos \u001b[38;5;241m=\u001b[39m np\u001b[38;5;241m.\u001b[39munique(estudiantes[\u001b[38;5;124m\"\u001b[39m\u001b[38;5;124mSemestreInicio\u001b[39m\u001b[38;5;124m\"\u001b[39m])\n\u001b[1;32m    536\u001b[0m \u001b[38;5;28;01mfor\u001b[39;00m i \u001b[38;5;129;01min\u001b[39;00m periodos:\n",
      "\u001b[0;31mValueError\u001b[0m: invalid literal for int() with base 10: 'Export'"
     ]
    }
   ],
   "source": [
    "from final import general_plots, historico_cohortes, n_estudiantes, estudiantesUnicosConAvance, PoblacionEstudiantesUnicos, estudiantesUnicosPorPeriodo\n",
    "## Gráficas generales\n",
    "\n",
    "directory_name = f\"RESULTS_{periodo_actual}/Graficas_Generales\"\n",
    "mean_avance_hist = historico_cohortes(estudiantes_excelPath, sancionados_excelPath, programa_principal)\n",
    "n_dataframe, mean_n_hist, n_sancionados = n_estudiantes(estudiantes_excelPath, sancionados_excelPath, estudiantes_excelPath, programa_principal)\n",
    "\n",
    "general_plots(estudiantes_excelPath, mean_avance_hist, mean_n_hist, directory_name)\n",
    "estudiantesUnicosPorPeriodo(estudiantes_excelPath, programa_principal, directory_name)\n",
    "PoblacionEstudiantesUnicos(poblacion_IBIO, directory_name)"
   ]
  }
 ],
 "metadata": {
  "kernelspec": {
   "display_name": "dashboard",
   "language": "python",
   "name": "python3"
  },
  "language_info": {
   "codemirror_mode": {
    "name": "ipython",
    "version": 3
   },
   "file_extension": ".py",
   "mimetype": "text/x-python",
   "name": "python",
   "nbconvert_exporter": "python",
   "pygments_lexer": "ipython3",
   "version": "3.13.1"
  },
  "orig_nbformat": 4
 },
 "nbformat": 4,
 "nbformat_minor": 2
}
