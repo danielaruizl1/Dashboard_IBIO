{
 "cells": [
  {
   "cell_type": "code",
   "execution_count": 4,
   "metadata": {},
   "outputs": [
    {
     "name": "stderr",
     "output_type": "stream",
     "text": [
      "Processing Periods: 100%|██████████| 11/11 [00:10<00:00,  1.01it/s]\n"
     ]
    }
   ],
   "source": [
    "from final import mainMaterias\n",
    "\n",
    "## En esta parte se calculan los piecharts por materia en cada periodo\n",
    "\n",
    "excelPath = \"Data/Cursos IBIO 2018-2023.xlsx\"\n",
    "desired_program = 'INGENIERIA BIOMEDICA'\n",
    "directory_name = 'PieCharts_por_Materia' #Nombre de la carpeta donde queremos que se guarden los resultados\n",
    "\n",
    "mainMaterias(excelPath, desired_program, directory_name)"
   ]
  },
  {
   "cell_type": "code",
   "execution_count": null,
   "metadata": {},
   "outputs": [],
   "source": [
    "## ACA IRIA LO DE LAS COHORTES Y LOS SANCIONADOS (Dani)\n",
    "# linea 174 - 324 de main_nuevo.py"
   ]
  },
  {
   "cell_type": "code",
   "execution_count": null,
   "metadata": {},
   "outputs": [],
   "source": [
    "## Estadisticas historicas por semestre y graficas (Dani)\n",
    "#por cohortes\n",
    "#Graficas de N por cohortes\n",
    "# linea 325 - 497 de main_nuevo.py"
   ]
  },
  {
   "cell_type": "code",
   "execution_count": 5,
   "metadata": {},
   "outputs": [
    {
     "name": "stderr",
     "output_type": "stream",
     "text": [
      "Graphics Creating: 100%|██████████| 13/13 [00:01<00:00, 10.33it/s]\n"
     ]
    }
   ],
   "source": [
    "from final import avanceNivel\n",
    "# Estadisticas de retiros & aprobados por materia IBIO\n",
    "## En esta parte se calculan los piecharts por materia en cada periodo\n",
    "\n",
    "path = \"Data/Cursos IBIO 2018-2023.xlsx\"\n",
    "desired_program = 'INGENIERIA BIOMEDICA'\n",
    "directory_name = 'Resultados_por_Materia'\n",
    "\n",
    "avanceNivel(path, desired_program, directory_name)"
   ]
  },
  {
   "cell_type": "code",
   "execution_count": 6,
   "metadata": {},
   "outputs": [
    {
     "ename": "TypeError",
     "evalue": "'module' object is not callable",
     "output_type": "error",
     "traceback": [
      "\u001b[0;31m---------------------------------------------------------------------------\u001b[0m",
      "\u001b[0;31mTypeError\u001b[0m                                 Traceback (most recent call last)",
      "\u001b[0;32m<ipython-input-6-655c7ee3af75>\u001b[0m in \u001b[0;36m<module>\u001b[0;34m\u001b[0m\n\u001b[1;32m      8\u001b[0m \u001b[0mdirectory_name\u001b[0m \u001b[0;34m=\u001b[0m \u001b[0;34m'Resultados_por_Materia'\u001b[0m\u001b[0;34m\u001b[0m\u001b[0;34m\u001b[0m\u001b[0m\n\u001b[1;32m      9\u001b[0m \u001b[0;34m\u001b[0m\u001b[0m\n\u001b[0;32m---> 10\u001b[0;31m \u001b[0mRetiros\u001b[0m \u001b[0;34m(\u001b[0m\u001b[0mpath_retiros\u001b[0m\u001b[0;34m,\u001b[0m \u001b[0mpath_estudiantes\u001b[0m\u001b[0;34m,\u001b[0m \u001b[0mdesired_program\u001b[0m\u001b[0;34m,\u001b[0m \u001b[0mdirectory_name\u001b[0m\u001b[0;34m)\u001b[0m\u001b[0;34m\u001b[0m\u001b[0;34m\u001b[0m\u001b[0m\n\u001b[0m",
      "\u001b[0;32m/media/SSD3/jpuentes/Dashboard_IBIO/final.py\u001b[0m in \u001b[0;36mRetiros\u001b[0;34m(path, original_path, desired_program, directory_name)\u001b[0m\n\u001b[1;32m    233\u001b[0m                 \u001b[0mmin_value\u001b[0m \u001b[0;34m=\u001b[0m \u001b[0msemester\u001b[0m\u001b[0;34m[\u001b[0m\u001b[0;34m'mean'\u001b[0m\u001b[0;34m]\u001b[0m \u001b[0;34m-\u001b[0m \u001b[0msemester\u001b[0m\u001b[0;34m[\u001b[0m\u001b[0;34m'std_dev'\u001b[0m\u001b[0;34m]\u001b[0m\u001b[0;34m\u001b[0m\u001b[0;34m\u001b[0m\u001b[0m\n\u001b[1;32m    234\u001b[0m \u001b[0;34m\u001b[0m\u001b[0m\n\u001b[0;32m--> 235\u001b[0;31m     \u001b[0mlist_dict_retiros\u001b[0m\u001b[0;34m,\u001b[0m \u001b[0mlist_dict_estudiantes\u001b[0m\u001b[0;34m,\u001b[0m \u001b[0mlist_dict_avance\u001b[0m \u001b[0;34m=\u001b[0m \u001b[0mretirosPorMateria\u001b[0m \u001b[0;34m(\u001b[0m\u001b[0mpensum_courses\u001b[0m\u001b[0;34m,\u001b[0m \u001b[0mresults_dict\u001b[0m\u001b[0;34m,\u001b[0m \u001b[0mmedias_niveles\u001b[0m\u001b[0;34m,\u001b[0m \u001b[0mretiros_count\u001b[0m\u001b[0;34m,\u001b[0m \u001b[0mmax_n\u001b[0m\u001b[0;34m,\u001b[0m \u001b[0mmedia_min\u001b[0m\u001b[0;34m,\u001b[0m \u001b[0mmedia_max\u001b[0m\u001b[0;34m,\u001b[0m \u001b[0mcursos\u001b[0m\u001b[0;34m,\u001b[0m \u001b[0mdirectory_name\u001b[0m\u001b[0;34m)\u001b[0m\u001b[0;34m\u001b[0m\u001b[0;34m\u001b[0m\u001b[0m\n\u001b[0m\u001b[1;32m    236\u001b[0m \u001b[0;34m\u001b[0m\u001b[0m\n\u001b[1;32m    237\u001b[0m     \u001b[0;31m## Retiros promedio\u001b[0m\u001b[0;34m\u001b[0m\u001b[0;34m\u001b[0m\u001b[0;34m\u001b[0m\u001b[0m\n",
      "\u001b[0;32m/media/SSD3/jpuentes/Dashboard_IBIO/utils.py\u001b[0m in \u001b[0;36mretirosPorMateria\u001b[0;34m(pensum_courses, results_dict, medias_niveles, retiros_count, max_n, media_min, media_max, cursos, directory_name)\u001b[0m\n\u001b[1;32m    126\u001b[0m \u001b[0;34m\u001b[0m\u001b[0m\n\u001b[1;32m    127\u001b[0m \u001b[0;34m\u001b[0m\u001b[0m\n\u001b[0;32m--> 128\u001b[0;31m     \u001b[0;32mfor\u001b[0m \u001b[0mi\u001b[0m \u001b[0;32min\u001b[0m \u001b[0mtqdm\u001b[0m\u001b[0;34m(\u001b[0m\u001b[0mrange\u001b[0m\u001b[0;34m(\u001b[0m\u001b[0mlen\u001b[0m\u001b[0;34m(\u001b[0m\u001b[0mpensum_courses\u001b[0m\u001b[0;34m)\u001b[0m\u001b[0;34m)\u001b[0m\u001b[0;34m,\u001b[0m \u001b[0mdesc\u001b[0m\u001b[0;34m=\u001b[0m\u001b[0;34m\"Graficas Retiros\"\u001b[0m\u001b[0;34m)\u001b[0m\u001b[0;34m:\u001b[0m\u001b[0;34m\u001b[0m\u001b[0;34m\u001b[0m\u001b[0m\n\u001b[0m\u001b[1;32m    129\u001b[0m \u001b[0;34m\u001b[0m\u001b[0m\n\u001b[1;32m    130\u001b[0m         \u001b[0mx\u001b[0m \u001b[0;34m=\u001b[0m \u001b[0mlist\u001b[0m\u001b[0;34m(\u001b[0m\u001b[0mresults_dict\u001b[0m\u001b[0;34m[\u001b[0m\u001b[0mpensum_courses\u001b[0m\u001b[0;34m[\u001b[0m\u001b[0mi\u001b[0m\u001b[0;34m]\u001b[0m\u001b[0;34m]\u001b[0m\u001b[0;34m.\u001b[0m\u001b[0mkeys\u001b[0m\u001b[0;34m(\u001b[0m\u001b[0;34m)\u001b[0m\u001b[0;34m)\u001b[0m\u001b[0;34m\u001b[0m\u001b[0;34m\u001b[0m\u001b[0m\n",
      "\u001b[0;31mTypeError\u001b[0m: 'module' object is not callable"
     ]
    }
   ],
   "source": [
    "from final import Retiros\n",
    "# Estadisticas de retiros & aprobados por materia IBIO\n",
    "## En esta parte se calculan los piecharts por materia en cada periodo\n",
    "\n",
    "path_retiros = \"Data/Retiros 2018-10 a 202310.xlsx\"\n",
    "path_estudiantes = \"Data/Cursos IBIO 2018-2023.xlsx\"\n",
    "desired_program = 'INGENIERIA BIOMEDICA'\n",
    "directory_name = 'Resultados_por_Materia'\n",
    "\n",
    "Retiros (path_retiros, path_estudiantes, desired_program, directory_name)"
   ]
  }
 ],
 "metadata": {
  "kernelspec": {
   "display_name": "base",
   "language": "python",
   "name": "python3"
  },
  "language_info": {
   "codemirror_mode": {
    "name": "ipython",
    "version": 3
   },
   "file_extension": ".py",
   "mimetype": "text/x-python",
   "name": "python",
   "nbconvert_exporter": "python",
   "pygments_lexer": "ipython3",
   "version": "3.7.6"
  },
  "orig_nbformat": 4
 },
 "nbformat": 4,
 "nbformat_minor": 2
}
