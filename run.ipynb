{
 "cells": [
  {
   "cell_type": "code",
   "execution_count": 1,
   "metadata": {},
   "outputs": [],
   "source": [
    "## RUTAS Y VARIABLES IMPORTANTES (Esta celda debe ejecutarse antes que las demás)\n",
    "\n",
    "# Escriba el periodo actual o el periodo hasta el cual quiere calcular las estadísticas. Ej: \"201810\"\n",
    "periodo_actual = \"202510\"\n",
    "# Escriba el programa principal para el cual quiere calcular las estadísticas. Ej: \"INGENIERIA BIOMEDICA\"\n",
    "programa_principal = \"INGENIERIA BIOMEDICA\"\n",
    "# Ruta al archivo de datos de los cursos\n",
    "#cursos_excelPath = f\"Data/Cursos IBIO 2018-{periodo_actual}.xlsx\"\n",
    "cursos_excelPath = f\"Data/Cursos Unicos 2018-{periodo_actual}.xlsx\"\n",
    "# Ruta al archivo de datos de los estudiantes\n",
    "estudiantes_excelPath = f\"Data/Estudiantes IBIO 201810-{periodo_actual}.xlsx\"\n",
    "# Ruta al archivo de datos de los sancionados\n",
    "sancionados_excelPath = \"Data/Estudiantes Sancionados 2021-10.xlsx\"\n",
    "# Ruta al archivo de datos de los estudiantes que se retiraron\n",
    "path_retiros = \"Data/Retiros 2018-10 a 202420.xlsx\"\n",
    "# Ruta al archivo de la población de estudiantes IBIO\n",
    "poblacion_IBIO = \"Data/EstudiantesUnicosTotales.xlsx\" "
   ]
  },
  {
   "cell_type": "code",
   "execution_count": 4,
   "metadata": {},
   "outputs": [
    {
     "name": "stderr",
     "output_type": "stream",
     "text": [
      "/media/SSD7/jpuentes2/Dashboard_IBIO/final.py:220: SettingWithCopyWarning: \n",
      "A value is trying to be set on a copy of a slice from a DataFrame.\n",
      "Try using .loc[row_indexer,col_indexer] = value instead\n",
      "\n",
      "See the caveats in the documentation: https://pandas.pydata.org/pandas-docs/stable/user_guide/indexing.html#returning-a-view-versus-a-copy\n",
      "  materia_data['Periodo'] = materia_data['Periodo'].astype(str)\n",
      "/media/SSD7/jpuentes2/Dashboard_IBIO/final.py:220: SettingWithCopyWarning: \n",
      "A value is trying to be set on a copy of a slice from a DataFrame.\n",
      "Try using .loc[row_indexer,col_indexer] = value instead\n",
      "\n",
      "See the caveats in the documentation: https://pandas.pydata.org/pandas-docs/stable/user_guide/indexing.html#returning-a-view-versus-a-copy\n",
      "  materia_data['Periodo'] = materia_data['Periodo'].astype(str)\n",
      "/media/SSD7/jpuentes2/Dashboard_IBIO/final.py:220: SettingWithCopyWarning: \n",
      "A value is trying to be set on a copy of a slice from a DataFrame.\n",
      "Try using .loc[row_indexer,col_indexer] = value instead\n",
      "\n",
      "See the caveats in the documentation: https://pandas.pydata.org/pandas-docs/stable/user_guide/indexing.html#returning-a-view-versus-a-copy\n",
      "  materia_data['Periodo'] = materia_data['Periodo'].astype(str)\n",
      "/media/SSD7/jpuentes2/Dashboard_IBIO/final.py:220: SettingWithCopyWarning: \n",
      "A value is trying to be set on a copy of a slice from a DataFrame.\n",
      "Try using .loc[row_indexer,col_indexer] = value instead\n",
      "\n",
      "See the caveats in the documentation: https://pandas.pydata.org/pandas-docs/stable/user_guide/indexing.html#returning-a-view-versus-a-copy\n",
      "  materia_data['Periodo'] = materia_data['Periodo'].astype(str)\n",
      "/media/SSD7/jpuentes2/Dashboard_IBIO/final.py:220: SettingWithCopyWarning: \n",
      "A value is trying to be set on a copy of a slice from a DataFrame.\n",
      "Try using .loc[row_indexer,col_indexer] = value instead\n",
      "\n",
      "See the caveats in the documentation: https://pandas.pydata.org/pandas-docs/stable/user_guide/indexing.html#returning-a-view-versus-a-copy\n",
      "  materia_data['Periodo'] = materia_data['Periodo'].astype(str)\n",
      "/media/SSD7/jpuentes2/Dashboard_IBIO/final.py:220: SettingWithCopyWarning: \n",
      "A value is trying to be set on a copy of a slice from a DataFrame.\n",
      "Try using .loc[row_indexer,col_indexer] = value instead\n",
      "\n",
      "See the caveats in the documentation: https://pandas.pydata.org/pandas-docs/stable/user_guide/indexing.html#returning-a-view-versus-a-copy\n",
      "  materia_data['Periodo'] = materia_data['Periodo'].astype(str)\n",
      "/media/SSD7/jpuentes2/Dashboard_IBIO/final.py:220: SettingWithCopyWarning: \n",
      "A value is trying to be set on a copy of a slice from a DataFrame.\n",
      "Try using .loc[row_indexer,col_indexer] = value instead\n",
      "\n",
      "See the caveats in the documentation: https://pandas.pydata.org/pandas-docs/stable/user_guide/indexing.html#returning-a-view-versus-a-copy\n",
      "  materia_data['Periodo'] = materia_data['Periodo'].astype(str)\n",
      "/media/SSD7/jpuentes2/Dashboard_IBIO/final.py:220: SettingWithCopyWarning: \n",
      "A value is trying to be set on a copy of a slice from a DataFrame.\n",
      "Try using .loc[row_indexer,col_indexer] = value instead\n",
      "\n",
      "See the caveats in the documentation: https://pandas.pydata.org/pandas-docs/stable/user_guide/indexing.html#returning-a-view-versus-a-copy\n",
      "  materia_data['Periodo'] = materia_data['Periodo'].astype(str)\n",
      "/media/SSD7/jpuentes2/Dashboard_IBIO/final.py:220: SettingWithCopyWarning: \n",
      "A value is trying to be set on a copy of a slice from a DataFrame.\n",
      "Try using .loc[row_indexer,col_indexer] = value instead\n",
      "\n",
      "See the caveats in the documentation: https://pandas.pydata.org/pandas-docs/stable/user_guide/indexing.html#returning-a-view-versus-a-copy\n",
      "  materia_data['Periodo'] = materia_data['Periodo'].astype(str)\n",
      "/media/SSD7/jpuentes2/Dashboard_IBIO/final.py:220: SettingWithCopyWarning: \n",
      "A value is trying to be set on a copy of a slice from a DataFrame.\n",
      "Try using .loc[row_indexer,col_indexer] = value instead\n",
      "\n",
      "See the caveats in the documentation: https://pandas.pydata.org/pandas-docs/stable/user_guide/indexing.html#returning-a-view-versus-a-copy\n",
      "  materia_data['Periodo'] = materia_data['Periodo'].astype(str)\n",
      "/media/SSD7/jpuentes2/Dashboard_IBIO/final.py:220: SettingWithCopyWarning: \n",
      "A value is trying to be set on a copy of a slice from a DataFrame.\n",
      "Try using .loc[row_indexer,col_indexer] = value instead\n",
      "\n",
      "See the caveats in the documentation: https://pandas.pydata.org/pandas-docs/stable/user_guide/indexing.html#returning-a-view-versus-a-copy\n",
      "  materia_data['Periodo'] = materia_data['Periodo'].astype(str)\n",
      "/media/SSD7/jpuentes2/Dashboard_IBIO/final.py:220: SettingWithCopyWarning: \n",
      "A value is trying to be set on a copy of a slice from a DataFrame.\n",
      "Try using .loc[row_indexer,col_indexer] = value instead\n",
      "\n",
      "See the caveats in the documentation: https://pandas.pydata.org/pandas-docs/stable/user_guide/indexing.html#returning-a-view-versus-a-copy\n",
      "  materia_data['Periodo'] = materia_data['Periodo'].astype(str)\n",
      "/media/SSD7/jpuentes2/Dashboard_IBIO/final.py:220: SettingWithCopyWarning: \n",
      "A value is trying to be set on a copy of a slice from a DataFrame.\n",
      "Try using .loc[row_indexer,col_indexer] = value instead\n",
      "\n",
      "See the caveats in the documentation: https://pandas.pydata.org/pandas-docs/stable/user_guide/indexing.html#returning-a-view-versus-a-copy\n",
      "  materia_data['Periodo'] = materia_data['Periodo'].astype(str)\n",
      "Processing Periods: 100%|██████████| 15/15 [00:25<00:00,  1.72s/it]\n"
     ]
    }
   ],
   "source": [
    "from final import mainMaterias\n",
    "## En esta parte se calculan los piecharts por materia en cada periodo\n",
    "\n",
    "directory_name = f'RESULTS_{periodo_actual}/PieCharts_por_Materia' #Nombre de la carpeta donde queremos que se guarden los resultados\n",
    "mainMaterias(estudiantes_excelPath, programa_principal, directory_name)"
   ]
  },
  {
   "cell_type": "code",
   "execution_count": 5,
   "metadata": {},
   "outputs": [
    {
     "name": "stderr",
     "output_type": "stream",
     "text": [
      "Processing Periods: 100%|██████████| 15/15 [04:43<00:00, 18.88s/it]\n"
     ]
    }
   ],
   "source": [
    "from final import avance_cohortes\n",
    "## En esta parte se calculan los piecharts por cohorte en cada periodo\n",
    "\n",
    "directory_name = f\"RESULTS_{periodo_actual}/PieCharts_por_cohorte\"\n",
    "mean_dataframe, desv_dataframe, results, mean_sancionados, desv_sancionados, sancionados_dict = avance_cohortes(estudiantes_excelPath, sancionados_excelPath, programa_principal, directory_name)"
   ]
  },
  {
   "cell_type": "code",
   "execution_count": 6,
   "metadata": {},
   "outputs": [
    {
     "name": "stderr",
     "output_type": "stream",
     "text": [
      "Processing Periods: 100%|██████████| 15/15 [00:02<00:00,  5.96it/s]\n",
      "Processing Periods: 100%|██████████| 15/15 [00:02<00:00,  6.02it/s]\n",
      "Processing Periods: 100%|██████████| 15/15 [00:02<00:00,  6.29it/s]\n"
     ]
    }
   ],
   "source": [
    "from final import avance_cohortes, historico_cohortes, plot_historico_cohortes\n",
    "## Estadisticas historicas por semestre\n",
    "\n",
    "directory_name = f\"RESULTS_{periodo_actual}/Historico_cohortes\"\n",
    "mean_dataframe, desv_dataframe, results, mean_sancionados, desv_sancionados, sancionados_dict = avance_cohortes(estudiantes_excelPath, sancionados_excelPath, programa_principal)\n",
    "mean_avance_hist = historico_cohortes(estudiantes_excelPath, sancionados_excelPath, programa_principal)\n",
    "plot_historico_cohortes(estudiantes_excelPath, sancionados_excelPath, mean_dataframe, desv_dataframe, mean_avance_hist, directory_name, programa_principal)"
   ]
  },
  {
   "cell_type": "code",
   "execution_count": 7,
   "metadata": {},
   "outputs": [
    {
     "ename": "ValueError",
     "evalue": "invalid literal for int() with base 10: 'Export'",
     "output_type": "error",
     "traceback": [
      "\u001b[0;31m---------------------------------------------------------------------------\u001b[0m",
      "\u001b[0;31mValueError\u001b[0m                                Traceback (most recent call last)",
      "Cell \u001b[0;32mIn[7], line 5\u001b[0m\n\u001b[1;32m      2\u001b[0m \u001b[38;5;66;03m## Graficas de N por cohortes\u001b[39;00m\n\u001b[1;32m      4\u001b[0m directory_name \u001b[38;5;241m=\u001b[39m \u001b[38;5;124mf\u001b[39m\u001b[38;5;124m\"\u001b[39m\u001b[38;5;124mRESULTS_\u001b[39m\u001b[38;5;132;01m{\u001b[39;00mperiodo_actual\u001b[38;5;132;01m}\u001b[39;00m\u001b[38;5;124m/N_cohortes\u001b[39m\u001b[38;5;124m\"\u001b[39m\n\u001b[0;32m----> 5\u001b[0m n_dataframe, mean_n_hist, n_sancionados \u001b[38;5;241m=\u001b[39m \u001b[43mn_estudiantes\u001b[49m\u001b[43m(\u001b[49m\u001b[43mestudiantes_excelPath\u001b[49m\u001b[43m,\u001b[49m\u001b[43m \u001b[49m\u001b[43msancionados_excelPath\u001b[49m\u001b[43m,\u001b[49m\u001b[43m \u001b[49m\u001b[43mestudiantes_excelPath\u001b[49m\u001b[43m,\u001b[49m\u001b[43m \u001b[49m\u001b[43mprograma_principal\u001b[49m\u001b[43m)\u001b[49m\n\u001b[1;32m      6\u001b[0m plot_n_cohortes(estudiantes_excelPath, n_dataframe, mean_n_hist, directory_name, programa_principal)\n",
      "File \u001b[0;32m/media/SSD7/jpuentes2/Dashboard_IBIO/final.py:530\u001b[0m, in \u001b[0;36mn_estudiantes\u001b[0;34m(xlsx_cursos, sancionados_xlsx, estudiantes_xlsx, desired_program)\u001b[0m\n\u001b[1;32m    528\u001b[0m xlsx_estudiantes \u001b[38;5;241m=\u001b[39m pd\u001b[38;5;241m.\u001b[39mread_excel(estudiantes_xlsx, sheet_name\u001b[38;5;241m=\u001b[39m\u001b[38;5;28;01mNone\u001b[39;00m)\n\u001b[1;32m    529\u001b[0m todosPeriodos \u001b[38;5;241m=\u001b[39m \u001b[38;5;28mlist\u001b[39m(xlsx_estudiantes\u001b[38;5;241m.\u001b[39mkeys())\n\u001b[0;32m--> 530\u001b[0m todosPeriodos \u001b[38;5;241m=\u001b[39m \u001b[38;5;28;43mlist\u001b[39;49m\u001b[43m(\u001b[49m\u001b[38;5;28;43mmap\u001b[39;49m\u001b[43m(\u001b[49m\u001b[38;5;28;43mint\u001b[39;49m\u001b[43m,\u001b[49m\u001b[43m \u001b[49m\u001b[43mtodosPeriodos\u001b[49m\u001b[43m)\u001b[49m\u001b[43m)\u001b[49m\n\u001b[1;32m    532\u001b[0m \u001b[38;5;28;01mfor\u001b[39;00m sheet_name \u001b[38;5;129;01min\u001b[39;00m xlsx_estudiantes:\n\u001b[1;32m    533\u001b[0m     estudiantes \u001b[38;5;241m=\u001b[39m xlsx_estudiantes[sheet_name]\n",
      "\u001b[0;31mValueError\u001b[0m: invalid literal for int() with base 10: 'Export'"
     ]
    }
   ],
   "source": [
    "from final import n_estudiantes, plot_n_cohortes\n",
    "## Graficas de N por cohortes\n",
    "\n",
    "directory_name = f\"RESULTS_{periodo_actual}/N_cohortes\"\n",
    "n_dataframe, mean_n_hist, n_sancionados = n_estudiantes(estudiantes_excelPath, sancionados_excelPath, estudiantes_excelPath, programa_principal)\n",
    "plot_n_cohortes(estudiantes_excelPath, n_dataframe, mean_n_hist, directory_name, programa_principal)"
   ]
  },
  {
   "cell_type": "markdown",
   "metadata": {},
   "source": []
  },
  {
   "cell_type": "code",
   "execution_count": 8,
   "metadata": {},
   "outputs": [
    {
     "name": "stderr",
     "output_type": "stream",
     "text": [
      "Graphics Creating: 100%|██████████| 13/13 [00:02<00:00,  5.34it/s]\n"
     ]
    }
   ],
   "source": [
    "from final import avanceNivel\n",
    "# Estadisticas de retiros & aprobados por materia IBIO\n",
    "## En esta parte se calculan los piecharts por materia en cada periodo\n",
    "\n",
    "directory_name = f'RESULTS_{periodo_actual}/Resultados_por_Materia'\n",
    "avanceNivel(estudiantes_excelPath, programa_principal, directory_name)"
   ]
  },
  {
   "cell_type": "code",
   "execution_count": 9,
   "metadata": {},
   "outputs": [
    {
     "name": "stderr",
     "output_type": "stream",
     "text": [
      "/media/SSD7/jpuentes2/Dashboard_IBIO/final.py:220: SettingWithCopyWarning: \n",
      "A value is trying to be set on a copy of a slice from a DataFrame.\n",
      "Try using .loc[row_indexer,col_indexer] = value instead\n",
      "\n",
      "See the caveats in the documentation: https://pandas.pydata.org/pandas-docs/stable/user_guide/indexing.html#returning-a-view-versus-a-copy\n",
      "  materia_data['Periodo'] = materia_data['Periodo'].astype(str)\n",
      "/media/SSD7/jpuentes2/Dashboard_IBIO/final.py:220: SettingWithCopyWarning: \n",
      "A value is trying to be set on a copy of a slice from a DataFrame.\n",
      "Try using .loc[row_indexer,col_indexer] = value instead\n",
      "\n",
      "See the caveats in the documentation: https://pandas.pydata.org/pandas-docs/stable/user_guide/indexing.html#returning-a-view-versus-a-copy\n",
      "  materia_data['Periodo'] = materia_data['Periodo'].astype(str)\n",
      "/media/SSD7/jpuentes2/Dashboard_IBIO/final.py:220: SettingWithCopyWarning: \n",
      "A value is trying to be set on a copy of a slice from a DataFrame.\n",
      "Try using .loc[row_indexer,col_indexer] = value instead\n",
      "\n",
      "See the caveats in the documentation: https://pandas.pydata.org/pandas-docs/stable/user_guide/indexing.html#returning-a-view-versus-a-copy\n",
      "  materia_data['Periodo'] = materia_data['Periodo'].astype(str)\n",
      "/media/SSD7/jpuentes2/Dashboard_IBIO/final.py:220: SettingWithCopyWarning: \n",
      "A value is trying to be set on a copy of a slice from a DataFrame.\n",
      "Try using .loc[row_indexer,col_indexer] = value instead\n",
      "\n",
      "See the caveats in the documentation: https://pandas.pydata.org/pandas-docs/stable/user_guide/indexing.html#returning-a-view-versus-a-copy\n",
      "  materia_data['Periodo'] = materia_data['Periodo'].astype(str)\n",
      "/media/SSD7/jpuentes2/Dashboard_IBIO/final.py:220: SettingWithCopyWarning: \n",
      "A value is trying to be set on a copy of a slice from a DataFrame.\n",
      "Try using .loc[row_indexer,col_indexer] = value instead\n",
      "\n",
      "See the caveats in the documentation: https://pandas.pydata.org/pandas-docs/stable/user_guide/indexing.html#returning-a-view-versus-a-copy\n",
      "  materia_data['Periodo'] = materia_data['Periodo'].astype(str)\n",
      "/media/SSD7/jpuentes2/Dashboard_IBIO/final.py:220: SettingWithCopyWarning: \n",
      "A value is trying to be set on a copy of a slice from a DataFrame.\n",
      "Try using .loc[row_indexer,col_indexer] = value instead\n",
      "\n",
      "See the caveats in the documentation: https://pandas.pydata.org/pandas-docs/stable/user_guide/indexing.html#returning-a-view-versus-a-copy\n",
      "  materia_data['Periodo'] = materia_data['Periodo'].astype(str)\n",
      "/media/SSD7/jpuentes2/Dashboard_IBIO/final.py:220: SettingWithCopyWarning: \n",
      "A value is trying to be set on a copy of a slice from a DataFrame.\n",
      "Try using .loc[row_indexer,col_indexer] = value instead\n",
      "\n",
      "See the caveats in the documentation: https://pandas.pydata.org/pandas-docs/stable/user_guide/indexing.html#returning-a-view-versus-a-copy\n",
      "  materia_data['Periodo'] = materia_data['Periodo'].astype(str)\n",
      "/media/SSD7/jpuentes2/Dashboard_IBIO/final.py:220: SettingWithCopyWarning: \n",
      "A value is trying to be set on a copy of a slice from a DataFrame.\n",
      "Try using .loc[row_indexer,col_indexer] = value instead\n",
      "\n",
      "See the caveats in the documentation: https://pandas.pydata.org/pandas-docs/stable/user_guide/indexing.html#returning-a-view-versus-a-copy\n",
      "  materia_data['Periodo'] = materia_data['Periodo'].astype(str)\n",
      "/media/SSD7/jpuentes2/Dashboard_IBIO/final.py:220: SettingWithCopyWarning: \n",
      "A value is trying to be set on a copy of a slice from a DataFrame.\n",
      "Try using .loc[row_indexer,col_indexer] = value instead\n",
      "\n",
      "See the caveats in the documentation: https://pandas.pydata.org/pandas-docs/stable/user_guide/indexing.html#returning-a-view-versus-a-copy\n",
      "  materia_data['Periodo'] = materia_data['Periodo'].astype(str)\n",
      "/media/SSD7/jpuentes2/Dashboard_IBIO/final.py:220: SettingWithCopyWarning: \n",
      "A value is trying to be set on a copy of a slice from a DataFrame.\n",
      "Try using .loc[row_indexer,col_indexer] = value instead\n",
      "\n",
      "See the caveats in the documentation: https://pandas.pydata.org/pandas-docs/stable/user_guide/indexing.html#returning-a-view-versus-a-copy\n",
      "  materia_data['Periodo'] = materia_data['Periodo'].astype(str)\n",
      "/media/SSD7/jpuentes2/Dashboard_IBIO/final.py:220: SettingWithCopyWarning: \n",
      "A value is trying to be set on a copy of a slice from a DataFrame.\n",
      "Try using .loc[row_indexer,col_indexer] = value instead\n",
      "\n",
      "See the caveats in the documentation: https://pandas.pydata.org/pandas-docs/stable/user_guide/indexing.html#returning-a-view-versus-a-copy\n",
      "  materia_data['Periodo'] = materia_data['Periodo'].astype(str)\n",
      "/media/SSD7/jpuentes2/Dashboard_IBIO/final.py:220: SettingWithCopyWarning: \n",
      "A value is trying to be set on a copy of a slice from a DataFrame.\n",
      "Try using .loc[row_indexer,col_indexer] = value instead\n",
      "\n",
      "See the caveats in the documentation: https://pandas.pydata.org/pandas-docs/stable/user_guide/indexing.html#returning-a-view-versus-a-copy\n",
      "  materia_data['Periodo'] = materia_data['Periodo'].astype(str)\n",
      "/media/SSD7/jpuentes2/Dashboard_IBIO/final.py:220: SettingWithCopyWarning: \n",
      "A value is trying to be set on a copy of a slice from a DataFrame.\n",
      "Try using .loc[row_indexer,col_indexer] = value instead\n",
      "\n",
      "See the caveats in the documentation: https://pandas.pydata.org/pandas-docs/stable/user_guide/indexing.html#returning-a-view-versus-a-copy\n",
      "  materia_data['Periodo'] = materia_data['Periodo'].astype(str)\n"
     ]
    }
   ],
   "source": [
    "from final import Retiros\n",
    "# Estadisticas de retiros & aprobados por materia IBIO\n",
    "## En esta parte se calculan los piecharts por materia en cada periodo\n",
    "\n",
    "directory_name = f'RESULTS_{periodo_actual}/Resultados_por_Materia'\n",
    "Retiros (path_retiros, estudiantes_excelPath, programa_principal, directory_name)"
   ]
  },
  {
   "cell_type": "code",
   "execution_count": 10,
   "metadata": {},
   "outputs": [
    {
     "name": "stderr",
     "output_type": "stream",
     "text": [
      "Processing Periods: 100%|██████████| 15/15 [00:02<00:00,  5.51it/s]\n",
      "Processing Periods: 100%|██████████| 15/15 [00:02<00:00,  6.30it/s]\n"
     ]
    }
   ],
   "source": [
    "from final import sancionados\n",
    "## Estadísticas sancionados\n",
    "\n",
    "directory_name = f\"RESULTS_{periodo_actual}/Sancionados\"\n",
    "sancionados(estudiantes_excelPath, directory_name, programa_principal, sancionados_excelPath)"
   ]
  },
  {
   "cell_type": "code",
   "execution_count": 21,
   "metadata": {},
   "outputs": [
    {
     "name": "stderr",
     "output_type": "stream",
     "text": [
      "Processing Periods: 100%|██████████| 15/15 [00:02<00:00,  6.46it/s]\n"
     ]
    },
    {
     "ename": "ValueError",
     "evalue": "invalid literal for int() with base 10: 'Export'",
     "output_type": "error",
     "traceback": [
      "\u001b[0;31m---------------------------------------------------------------------------\u001b[0m",
      "\u001b[0;31mValueError\u001b[0m                                Traceback (most recent call last)",
      "Cell \u001b[0;32mIn[21], line 6\u001b[0m\n\u001b[1;32m      4\u001b[0m directory_name \u001b[38;5;241m=\u001b[39m \u001b[38;5;124mf\u001b[39m\u001b[38;5;124m\"\u001b[39m\u001b[38;5;124mRESULTS_\u001b[39m\u001b[38;5;132;01m{\u001b[39;00mperiodo_actual\u001b[38;5;132;01m}\u001b[39;00m\u001b[38;5;124m/Graficas_Generales\u001b[39m\u001b[38;5;124m\"\u001b[39m\n\u001b[1;32m      5\u001b[0m mean_avance_hist \u001b[38;5;241m=\u001b[39m historico_cohortes(estudiantes_excelPath, sancionados_excelPath, programa_principal)\n\u001b[0;32m----> 6\u001b[0m n_dataframe, mean_n_hist, n_sancionados \u001b[38;5;241m=\u001b[39m \u001b[43mn_estudiantes\u001b[49m\u001b[43m(\u001b[49m\u001b[43mestudiantes_excelPath\u001b[49m\u001b[43m,\u001b[49m\u001b[43m \u001b[49m\u001b[43msancionados_excelPath\u001b[49m\u001b[43m,\u001b[49m\u001b[43m \u001b[49m\u001b[43mestudiantes_excelPath\u001b[49m\u001b[43m,\u001b[49m\u001b[43m \u001b[49m\u001b[43mprograma_principal\u001b[49m\u001b[43m)\u001b[49m\n\u001b[1;32m      8\u001b[0m general_plots(estudiantes_excelPath, mean_avance_hist, mean_n_hist, directory_name)\n\u001b[1;32m      9\u001b[0m estudiantesUnicosPorPeriodo(estudiantes_excelPath, programa_principal, directory_name)\n",
      "File \u001b[0;32m/media/SSD7/jpuentes2/Dashboard_IBIO/final.py:534\u001b[0m, in \u001b[0;36mn_estudiantes\u001b[0;34m(xlsx_cursos, sancionados_xlsx, estudiantes_xlsx, desired_program)\u001b[0m\n\u001b[1;32m    532\u001b[0m estudiantes \u001b[38;5;241m=\u001b[39m xlsx_estudiantes[sheet_name]\n\u001b[1;32m    533\u001b[0m IBIO \u001b[38;5;241m=\u001b[39m estudiantes[\u001b[38;5;124m'\u001b[39m\u001b[38;5;124mPrograma principal\u001b[39m\u001b[38;5;124m'\u001b[39m] \u001b[38;5;241m==\u001b[39m \u001b[38;5;124m\"\u001b[39m\u001b[38;5;124mINGENIERIA BIOMEDICA\u001b[39m\u001b[38;5;124m\"\u001b[39m\n\u001b[0;32m--> 534\u001b[0m estudiantes \u001b[38;5;241m=\u001b[39m estudiantes[IBIO]\u001b[38;5;241m.\u001b[39mreset_index()\n\u001b[1;32m    535\u001b[0m periodos \u001b[38;5;241m=\u001b[39m np\u001b[38;5;241m.\u001b[39munique(estudiantes[\u001b[38;5;124m\"\u001b[39m\u001b[38;5;124mSemestreInicio\u001b[39m\u001b[38;5;124m\"\u001b[39m])\n\u001b[1;32m    536\u001b[0m \u001b[38;5;28;01mfor\u001b[39;00m i \u001b[38;5;129;01min\u001b[39;00m periodos:\n",
      "\u001b[0;31mValueError\u001b[0m: invalid literal for int() with base 10: 'Export'"
     ]
    }
   ],
   "source": [
    "from final import general_plots, historico_cohortes, n_estudiantes, estudiantesUnicosConAvance, PoblacionEstudiantesUnicos, estudiantesUnicosPorPeriodo\n",
    "## Gráficas generales\n",
    "\n",
    "directory_name = f\"RESULTS_{periodo_actual}/Graficas_Generales\"\n",
    "mean_avance_hist = historico_cohortes(estudiantes_excelPath, sancionados_excelPath, programa_principal)\n",
    "n_dataframe, mean_n_hist, n_sancionados = n_estudiantes(estudiantes_excelPath, sancionados_excelPath, estudiantes_excelPath, programa_principal)\n",
    "\n",
    "general_plots(estudiantes_excelPath, mean_avance_hist, mean_n_hist, directory_name)\n",
    "estudiantesUnicosPorPeriodo(estudiantes_excelPath, programa_principal, directory_name)\n",
    "PoblacionEstudiantesUnicos(poblacion_IBIO, directory_name)"
   ]
  }
 ],
 "metadata": {
  "kernelspec": {
   "display_name": "dashboard",
   "language": "python",
   "name": "python3"
  },
  "language_info": {
   "codemirror_mode": {
    "name": "ipython",
    "version": 3
   },
   "file_extension": ".py",
   "mimetype": "text/x-python",
   "name": "python",
   "nbconvert_exporter": "python",
   "pygments_lexer": "ipython3",
   "version": "3.13.1"
  },
  "orig_nbformat": 4
 },
 "nbformat": 4,
 "nbformat_minor": 2
}
