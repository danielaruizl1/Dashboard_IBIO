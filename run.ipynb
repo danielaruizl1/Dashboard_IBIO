{
 "cells": [
  {
   "cell_type": "code",
   "execution_count": 1,
   "metadata": {},
   "outputs": [
    {
     "name": "stderr",
     "output_type": "stream",
     "text": [
      "Processing Periods: 100%|██████████| 11/11 [00:10<00:00,  1.03it/s]\n"
     ]
    }
   ],
   "source": [
    "from final import mainMaterias\n",
    "\n",
    "## En esta parte se calculan los piecharts por materia en cada periodo\n",
    "\n",
    "excelPath = \"Data/Cursos IBIO 2018-2023.xlsx\"\n",
    "desired_program = 'INGENIERIA BIOMEDICA'\n",
    "directory_name = 'PieCharts_por_Materia' #Nombre de la carpeta donde queremos que se guarden los resultados\n",
    "\n",
    "mainMaterias(excelPath, desired_program, directory_name)"
   ]
  },
  {
   "cell_type": "code",
   "execution_count": null,
   "metadata": {},
   "outputs": [],
   "source": []
  },
  {
   "cell_type": "code",
   "execution_count": null,
   "metadata": {},
   "outputs": [],
   "source": [
    "## ACA IRIA LO DE LAS COHORTES Y LOS SANCIONADOS (Dani)\n",
    "# linea 174 - 324 de main_nuevo.py"
   ]
  },
  {
   "cell_type": "code",
   "execution_count": null,
   "metadata": {},
   "outputs": [],
   "source": [
    "## Estadisticas historicas por semestre y graficas (Dani)\n",
    "#por cohortes\n",
    "#Graficas de N por cohortes\n",
    "# linea 325 - 497 de main_nuevo.py"
   ]
  },
  {
   "cell_type": "code",
   "execution_count": 2,
   "metadata": {},
   "outputs": [
    {
     "name": "stderr",
     "output_type": "stream",
     "text": [
      "Graphics Creating: 100%|██████████| 13/13 [00:01<00:00, 10.09it/s]\n"
     ]
    }
   ],
   "source": [
    "from final import avanceNivel\n",
    "# Estadisticas de retiros & aprobados por materia IBIO\n",
    "## En esta parte se calculan los piecharts por materia en cada periodo\n",
    "\n",
    "path = \"Data/Cursos IBIO 2018-2023.xlsx\"\n",
    "desired_program = 'INGENIERIA BIOMEDICA'\n",
    "directory_name = 'Resultados_por_Materia'\n",
    "\n",
    "avanceNivel(path, desired_program, directory_name)"
   ]
  },
  {
   "cell_type": "code",
   "execution_count": 3,
   "metadata": {},
   "outputs": [],
   "source": [
    "from final import Retiros\n",
    "# Estadisticas de retiros & aprobados por materia IBIO\n",
    "## En esta parte se calculan los piecharts por materia en cada periodo\n",
    "\n",
    "path_retiros = \"Data/Retiros 2018-10 a 202310.xlsx\"\n",
    "path_estudiantes = \"Data/Cursos IBIO 2018-2023.xlsx\"\n",
    "desired_program = 'INGENIERIA BIOMEDICA'\n",
    "directory_name = 'Resultados_por_Materia'\n",
    "\n",
    "Retiros (path_retiros, path_estudiantes, desired_program, directory_name)"
   ]
  }
 ],
 "metadata": {
  "kernelspec": {
   "display_name": "base",
   "language": "python",
   "name": "python3"
  },
  "language_info": {
   "codemirror_mode": {
    "name": "ipython",
    "version": 3
   },
   "file_extension": ".py",
   "mimetype": "text/x-python",
   "name": "python",
   "nbconvert_exporter": "python",
   "pygments_lexer": "ipython3",
   "version": "3.7.6"
  },
  "orig_nbformat": 4
 },
 "nbformat": 4,
 "nbformat_minor": 2
}
